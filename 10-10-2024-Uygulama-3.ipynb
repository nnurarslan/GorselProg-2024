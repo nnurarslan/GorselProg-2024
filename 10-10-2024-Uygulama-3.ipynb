{
 "cells": [
  {
   "cell_type": "code",
   "execution_count": 3,
   "id": "b37c5898",
   "metadata": {},
   "outputs": [
    {
     "name": "stdout",
     "output_type": "stream",
     "text": [
      "Sayi 5'ten kucuktur\n"
     ]
    }
   ],
   "source": [
    "sayi=3\n",
    "if sayi>5:\n",
    "    print(\"Sayi 5'ten buyuktur\")\n",
    "else:\n",
    "    print(\"Sayi 5'ten kucuktur\")"
   ]
  },
  {
   "cell_type": "code",
   "execution_count": 5,
   "id": "5212b259",
   "metadata": {},
   "outputs": [
    {
     "name": "stdout",
     "output_type": "stream",
     "text": [
      "Sayi 5 veya 5'ten kucuktur\n"
     ]
    }
   ],
   "source": [
    "sayi=4\n",
    "if sayi>10:\n",
    "    print(\"Sayı 10'dan buyuktur\")\n",
    "elif sayi>5:\n",
    "    print(\"Sayi 5'ten buyuktur\")\n",
    "else:\n",
    "    print(\"Sayi 5 veya 5'ten kucuktur\")"
   ]
  },
  {
   "cell_type": "code",
   "execution_count": 6,
   "id": "11f87ace",
   "metadata": {},
   "outputs": [
    {
     "name": "stdout",
     "output_type": "stream",
     "text": [
      "Sayi tektir\n"
     ]
    }
   ],
   "source": [
    "sayi=7\n",
    "if sayi % 2 == 0:\n",
    "    print(\"Sayi cifttir\")\n",
    "else:\n",
    "    print(\"Sayi tektir\")"
   ]
  },
  {
   "cell_type": "code",
   "execution_count": 8,
   "id": "df1e0701",
   "metadata": {},
   "outputs": [
    {
     "name": "stdout",
     "output_type": "stream",
     "text": [
      "sayı sıfıra eşit\n"
     ]
    }
   ],
   "source": [
    "sayi = 0\n",
    "if sayi > 0:\n",
    "    print(\"pozitif\")\n",
    "elif sayi < 0:\n",
    "    print(\"negatif\")\n",
    "else:\n",
    "    print(\"sayı sıfıra eşit\")"
   ]
  },
  {
   "cell_type": "code",
   "execution_count": 11,
   "id": "58b4f524",
   "metadata": {},
   "outputs": [
    {
     "name": "stdout",
     "output_type": "stream",
     "text": [
      "Sayı 10 ile 20 arasında degil\n"
     ]
    }
   ],
   "source": [
    "sayi = 10\n",
    "if 10 < sayi <= 20:\n",
    "    print(\"Sayı 10 ile 20 arasında\")\n",
    "else:\n",
    "    print(\"Sayı 10 ile 20 arasında degil\")"
   ]
  },
  {
   "cell_type": "code",
   "execution_count": 13,
   "id": "554eaa5c",
   "metadata": {},
   "outputs": [
    {
     "name": "stdout",
     "output_type": "stream",
     "text": [
      "Haftasonu\n"
     ]
    }
   ],
   "source": [
    "gun = \"cumartesi\"\n",
    "if gun == \"cumartesi\" or gun == \"pazar\":\n",
    "    print(\"Haftasonu\")\n",
    "else:\n",
    "    print(\"haftaici\")"
   ]
  },
  {
   "cell_type": "code",
   "execution_count": 17,
   "id": "e1723a49",
   "metadata": {},
   "outputs": [
    {
     "name": "stdout",
     "output_type": "stream",
     "text": [
      "Yasınızı giriniz:17\n",
      "Ehliyetiniz var mi 0/10\n",
      "arac suremezsiniz\n"
     ]
    }
   ],
   "source": [
    "yas = int(input(\"Yasınızı giriniz:\"))\n",
    "ehliyet = int(input(\"Ehliyetiniz var mi 0/1\"))\n",
    "if yas >= 18 and ehliyet:\n",
    "    print(\"arac sürebilirsiniz\")\n",
    "else:\n",
    "    print(\"arac suremezsiniz\")\n",
    "    "
   ]
  },
  {
   "cell_type": "code",
   "execution_count": 19,
   "id": "e66f9b7e",
   "metadata": {},
   "outputs": [
    {
     "name": "stdout",
     "output_type": "stream",
     "text": [
      "cift\n"
     ]
    }
   ],
   "source": [
    "sayi=8\n",
    "sonuc = \"cift\" if sayi % 2 == 0 else \"tek\"\n",
    "print(sonuc)"
   ]
  },
  {
   "cell_type": "code",
   "execution_count": 22,
   "id": "3c1a966b",
   "metadata": {},
   "outputs": [
    {
     "name": "stdout",
     "output_type": "stream",
     "text": [
      "Puanınızı girin :40\n",
      "kaldınız\n"
     ]
    }
   ],
   "source": [
    "puan = int(input(\"Puanınızı girin :\"))\n",
    "if puan >= 90:\n",
    "    print(\"Harf notunuz: A\")\n",
    "elif puan >=80:\n",
    "    print(\"Harf notunuz: B\")\n",
    "elif puan >=70:\n",
    "    print(\"Harf notunuz: C\")\n",
    "elif puan >=60:\n",
    "    print(\"Harf notunuz: D\")\n",
    "elif puan >= 50:\n",
    "    pass\n",
    "else:\n",
    "    print(\"kaldınız\")"
   ]
  },
  {
   "cell_type": "code",
   "execution_count": 24,
   "id": "a6c1614a",
   "metadata": {},
   "outputs": [
    {
     "name": "stdout",
     "output_type": "stream",
     "text": [
      "Şifrenizi giriniz :5\n",
      "yanlış\n"
     ]
    }
   ],
   "source": [
    "dogru_sifre = \"1234\"\n",
    "girilen_sifre = input(\"Şifrenizi giriniz :\")\n",
    "if dogru_sifre == girilen_sifre:\n",
    "    print(\"Şifre doğru\")\n",
    "else:\n",
    "    print(\"yanlış\")"
   ]
  },
  {
   "cell_type": "raw",
   "id": "20b5ff03",
   "metadata": {},
   "source": [
    "KULLANICIDAN YAŞI, ÖĞRENCİLİK DURUMU VE AYLIK GELİRİ İSTENSİN\n",
    "-----------------------------------------\n",
    "ÜCRET 100 TL OLARAK ATANSIN.\n",
    "--------\n",
    "YAŞ 18 DEN KÜÇÜK İSE %50 İNDİRİM\n",
    "YAŞ 18 İLE 25 YAŞ ARASINDAYSA VE ÖĞRENCİYSE %40 İNDİRİM\n",
    "YASI 65 TEN BÜYÜK VEYA EŞİTSE %30 İNDİRİM\n",
    "DİĞER HERKESE %10 İNDİRİM\n",
    "------------\n",
    "EK İNDİRİM\n",
    "GELİR DURUMU 3000 TLDEN KÜÇÜKSE EK %20 İNDİRİM\n",
    "DİĞER DURUMLARDA EK İNDİRİM YOK\n",
    "--------\n",
    "TOPLAM İNDİRİM ORANINI HESAPLAYIN\n",
    "KİŞİNİN BİLET ÜCRETİNİ BULUN\n",
    "----------------\n",
    "ÇIKTI ŞU ŞEKİLDE OLACAK:\n",
    "Yaşınızı girin : 16\n",
    "Öğrenci misiniz (evet/hayır): evet\n",
    "aylık geliriniz nedir? 2000\n",
    "18 yaş altındasınız. %50 indirim uygulanacak\n",
    "gelir durumunuz düşük olduğu için ek %20 indirim uygulanacak\n",
    "Etkinliğin normal ücreti : 100 tl\n",
    "toplam indirim oranı: %70\n",
    "indirimli ödemeniz gereken ücret 30.00 tl"
   ]
  },
  {
   "cell_type": "code",
   "execution_count": 1,
   "id": "6a4f2917",
   "metadata": {},
   "outputs": [
    {
     "name": "stdout",
     "output_type": "stream",
     "text": [
      "Yaşınızı giriniz:18\n",
      "Öğrenci misiniz (evet/hayır):evet\n",
      "Aylık geliriniz nedir? 3500\n",
      "18-25 yaş arasındasınız ve öğrencisiniz %40 indirim uygulanacak\n",
      "ek indirim yok\n",
      "\n",
      "Etkinliğin normal ucreti : 100 TL\n",
      "Toplam indirim oranı: %40\n",
      "İndirimli ödemeniz gereken ücret: 60.00 TL\n"
     ]
    }
   ],
   "source": [
    "yas = int(input(\"Yaşınızı giriniz:\"))\n",
    "ogrenci_mi = input(\"Öğrenci misiniz (evet/hayır):\")\n",
    "gelir_durumu = float(input(\"Aylık geliriniz nedir? \"))\n",
    "\n",
    "ucret=100\n",
    "indirim=0\n",
    "if yas<18:\n",
    "    indirim=0.50\n",
    "    print(\"18 yaş altındasınız %50 indirim uygulanacak\")\n",
    "elif 18<=yas<=25 and ogrenci_mi == \"evet\":\n",
    "    indirim = 0.40\n",
    "    print(\"18-25 yaş arasındasınız ve öğrencisiniz %40 indirim uygulanacak\")\n",
    "elif 65<=yas:\n",
    "    indirim = 0.30\n",
    "    print(\"65 yaş üstündesiniz %30 indirim uygulanacak\")\n",
    "else:\n",
    "    indirim = 0.10\n",
    "    print(\"Standart %10 indirim uygulanacak\")\n",
    "\n",
    "if gelir_durumu < 3000:\n",
    "    ek_indirim = 0.20\n",
    "    print(\"%20 ek indirim uygulandı\")\n",
    "else: \n",
    "    ek_indirim = 0\n",
    "    print(\"ek indirim yok\")\n",
    "\n",
    "toplam_indirim = indirim + ek_indirim\n",
    "indirimli_ucret = ucret*(1-toplam_indirim)\n",
    "print(f\"\\nEtkinliğin normal ucreti : {ucret} TL\")\n",
    "print(f\"Toplam indirim oranı: %{int(toplam_indirim*100)}\")\n",
    "print(f\"İndirimli ödemeniz gereken ücret: {indirimli_ucret:.2f} TL\")\n"
   ]
  },
  {
   "cell_type": "code",
   "execution_count": null,
   "id": "22ba6121",
   "metadata": {},
   "outputs": [],
   "source": []
  }
 ],
 "metadata": {
  "kernelspec": {
   "display_name": "Python 3 (ipykernel)",
   "language": "python",
   "name": "python3"
  },
  "language_info": {
   "codemirror_mode": {
    "name": "ipython",
    "version": 3
   },
   "file_extension": ".py",
   "mimetype": "text/x-python",
   "name": "python",
   "nbconvert_exporter": "python",
   "pygments_lexer": "ipython3",
   "version": "3.9.16"
  }
 },
 "nbformat": 4,
 "nbformat_minor": 5
}
