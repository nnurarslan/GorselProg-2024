{
 "cells": [
  {
   "cell_type": "code",
   "execution_count": null,
   "id": "a40e64e9",
   "metadata": {},
   "outputs": [],
   "source": [
    "--------------------------------\n",
    "|          Product             |\n",
    "--------------------------------\n",
    "| + name: str                  |\n",
    "| + price: float               |\n",
    "| - __stock: int               |\n",
    "--------------------------------\n",
    "| + __init__(name, price, stock)|\n",
    "| + check_stock(quantity): bool|\n",
    "| + update_stock(quantity): bool|\n",
    "| + get_stock(): int           |\n",
    "--------------------------------\n",
    "\n"
   ]
  },
  {
   "cell_type": "code",
   "execution_count": 3,
   "id": "7264dc65",
   "metadata": {},
   "outputs": [],
   "source": [
    "class Product:\n",
    "    def __init__(self, name, price, stock):\n",
    "        self.name = name\n",
    "        self.price = price\n",
    "        self.__stock = stock\n",
    "    \n",
    "    def check_stock(self, quantity):\n",
    "        return self.__stock >= quantity\n",
    "    \n",
    "    def update_stock(self, quantity):\n",
    "        if quantity <= self.__stock:\n",
    "            self.__stock -= quantity\n",
    "            return True\n",
    "        return False\n",
    "    \n",
    "    def get_stock(self):\n",
    "        return self.__stock\n",
    "    "
   ]
  },
  {
   "cell_type": "code",
   "execution_count": null,
   "id": "0525ce07",
   "metadata": {},
   "outputs": [],
   "source": [
    "\n",
    "--------------------------------\n",
    "|          Customer            |\n",
    "--------------------------------\n",
    "| + name: str                  |\n",
    "| + email: str                 |\n",
    "| - __orders: list[Order]      |\n",
    "--------------------------------\n",
    "| + __init__(name, email)      |\n",
    "| + add_order(order: Order)    |\n",
    "| + get_orders(): list[Order]  |\n",
    "--------------------------------\n",
    "\n"
   ]
  },
  {
   "cell_type": "code",
   "execution_count": 2,
   "id": "4b70d453",
   "metadata": {},
   "outputs": [],
   "source": [
    "class Customer:\n",
    "    def __init__(self, name, email):\n",
    "        self.name = name\n",
    "        self.email = email\n",
    "        self.__orders = []\n",
    "    \n",
    "    def add_order(self, order):\n",
    "        self.__orders.append(order)\n",
    "    \n",
    "    def get_orders(self):\n",
    "        return self.__orders\n",
    "    "
   ]
  },
  {
   "cell_type": "code",
   "execution_count": null,
   "id": "aa7f49fa",
   "metadata": {},
   "outputs": [],
   "source": [
    "\n",
    "--------------------------------\n",
    "|          Order               |\n",
    "--------------------------------\n",
    "| + customer: Customer         |\n",
    "| + product: Product           |\n",
    "| + quantity: int              |\n",
    "| + is_processed: bool         |\n",
    "| + total_price: float         |\n",
    "--------------------------------\n",
    "| + __init__(customer, product, quantity) |\n",
    "| - __calculate_total(): float|\n",
    "| + process_order(): bool      |\n",
    "--------------------------------\n",
    "\n"
   ]
  },
  {
   "cell_type": "code",
   "execution_count": 1,
   "id": "ebed21e8",
   "metadata": {},
   "outputs": [],
   "source": [
    "class Order: \n",
    "    def __init__(self, customer, product, quantity):\n",
    "        self.customer = customer\n",
    "        self.product = product\n",
    "        self.quantity = quantity\n",
    "        self.is_processed = False\n",
    "        self.total_price = self.__calculate_total()\n",
    "        \n",
    "    def __calculate_total(self):\n",
    "        return self.quantity * self.product.price\n",
    "    \n",
    "    def process_order(self):\n",
    "        if self.product.check_stock(self.quantity):\n",
    "            self.product.update_stock(self.quantity)\n",
    "            self.is_processed = True\n",
    "            self.customer.add_order(self)\n",
    "            return True\n",
    "        else:\n",
    "            print(f\"Yetersiz stok: {self.product.name}\")\n",
    "            return False"
   ]
  },
  {
   "cell_type": "code",
   "execution_count": null,
   "id": "6a7a2562",
   "metadata": {},
   "outputs": [],
   "source": [
    "\n",
    "--------------------------------\n",
    "|       display_order_history  |\n",
    "--------------------------------\n",
    "| + display_order_history(customer: Customer): None |\n",
    "--------------------------------"
   ]
  },
  {
   "cell_type": "code",
   "execution_count": 5,
   "id": "6c17ef21",
   "metadata": {},
   "outputs": [],
   "source": [
    "def display_order_history(customer):\n",
    "    orders = customer.get_orders()\n",
    "    if not orders:\n",
    "        print(f\"{customer.name} için sipariş geçmişi yok\")\n",
    "    else:\n",
    "        print(f\"{customer.name} için sipariş geçmişi:\")\n",
    "        for order in orders:\n",
    "            status = \"İşlendi\" if order.is_processed else \"Beklemede\"\n",
    "            print(f\"- Ürün {order.product.name} , Miktar: {order.quantity}, total fiyat = {order.total_price}, Durum: {status}\")"
   ]
  },
  {
   "cell_type": "code",
   "execution_count": 6,
   "id": "33407168",
   "metadata": {},
   "outputs": [],
   "source": [
    "urun1 = Product(\"Laptop\", 20000, 10)\n",
    "urun2 = Product(\"Telefon\", 15000, 5)\n"
   ]
  },
  {
   "cell_type": "code",
   "execution_count": 7,
   "id": "fada51b9",
   "metadata": {},
   "outputs": [],
   "source": [
    "musteri1 = Customer(\"Ali\", \"sdjds@gmail.com\")\n",
    "musteri2 = Customer(\"Ayşe\", \"ayse@gmail.com\")"
   ]
  },
  {
   "cell_type": "code",
   "execution_count": 8,
   "id": "8ae73f4e",
   "metadata": {},
   "outputs": [],
   "source": [
    "siparis1 = Order(musteri1, urun1, 2)\n",
    "siparis2 = Order(musteri2, urun2, 6)\n",
    "siparis3 = Order(musteri1, urun2, 1)"
   ]
  },
  {
   "cell_type": "code",
   "execution_count": 9,
   "id": "76f431e7",
   "metadata": {},
   "outputs": [
    {
     "data": {
      "text/plain": [
       "True"
      ]
     },
     "execution_count": 9,
     "metadata": {},
     "output_type": "execute_result"
    }
   ],
   "source": [
    "siparis1.process_order()"
   ]
  },
  {
   "cell_type": "code",
   "execution_count": 10,
   "id": "7acfefc6",
   "metadata": {},
   "outputs": [
    {
     "name": "stdout",
     "output_type": "stream",
     "text": [
      "Yetersiz stok: Telefon\n"
     ]
    },
    {
     "data": {
      "text/plain": [
       "False"
      ]
     },
     "execution_count": 10,
     "metadata": {},
     "output_type": "execute_result"
    }
   ],
   "source": [
    "siparis2.process_order()"
   ]
  },
  {
   "cell_type": "code",
   "execution_count": 11,
   "id": "ff551721",
   "metadata": {},
   "outputs": [
    {
     "data": {
      "text/plain": [
       "True"
      ]
     },
     "execution_count": 11,
     "metadata": {},
     "output_type": "execute_result"
    }
   ],
   "source": [
    "siparis3.process_order()"
   ]
  },
  {
   "cell_type": "code",
   "execution_count": 12,
   "id": "ded8e6d8",
   "metadata": {},
   "outputs": [
    {
     "name": "stdout",
     "output_type": "stream",
     "text": [
      "Ali için sipariş geçmişi:\n",
      "- Ürün Laptop , Miktar: 2, total fiyat = 40000, Durum: İşlendi\n",
      "- Ürün Telefon , Miktar: 1, total fiyat = 15000, Durum: İşlendi\n"
     ]
    }
   ],
   "source": [
    "display_order_history(musteri1)"
   ]
  },
  {
   "cell_type": "code",
   "execution_count": 13,
   "id": "e4ae9861",
   "metadata": {},
   "outputs": [
    {
     "name": "stdout",
     "output_type": "stream",
     "text": [
      "Ayşe için sipariş geçmişi yok\n"
     ]
    }
   ],
   "source": [
    "display_order_history(musteri2)"
   ]
  },
  {
   "cell_type": "code",
   "execution_count": null,
   "id": "136bd3c5",
   "metadata": {},
   "outputs": [],
   "source": []
  },
  {
   "cell_type": "markdown",
   "id": "6856120f",
   "metadata": {},
   "source": [
    "# MONGODB"
   ]
  },
  {
   "cell_type": "markdown",
   "id": "49f1ed29",
   "metadata": {},
   "source": [
    "MongoDB veritabanında temel CRUD (Create, Read, Update, Delete) işlemlerini Python kullanarak yapmanızı sağlar. MongoDB esnek bir NoSQL veritabanı olduğu için ilişkisel tablolardaki gibi katı veri şemaları gerekmez.\n",
    "\n",
    "SQL Veritabanları: Veriler, tablolar, satırlar ve sütunlar şeklinde yapılandırılmıştır. Her tablonun belirli bir şeması (önceden tanımlanmış kolon adları, veri tipleri ve ilişkiler) vardır. Tablolar arasındaki ilişkiler, birincil ve yabancı anahtarlar kullanılarak belirlenir.\n",
    "\n",
    "MongoDB (NoSQL): MongoDB, JSON benzeri belgeler (dokümanlar) kullanır. Veriler, koleksiyon adı verilen yapılarda tutulur ve her belgenin yapısı farklı olabilir. Şema esnek olduğu için her belge aynı özelliklere sahip olmak zorunda değildir. İlişkiler, belgeler içinde yer alan verilerle doğrudan tutulabilir.\n",
    "   \n",
    "İlk olarak, MongoDB ile Python arasında bağlantı kurmak için pymongo kütüphanesini kurmalısınız.\n",
    "pip install pymongo"
   ]
  },
  {
   "cell_type": "code",
   "execution_count": 14,
   "id": "1ca7f16c",
   "metadata": {},
   "outputs": [],
   "source": [
    "import pymongo"
   ]
  },
  {
   "cell_type": "markdown",
   "id": "b3fde49a",
   "metadata": {},
   "source": [
    "Python’da MongoDB’ye bağlanmak için MongoClient nesnesini kullanırız. Sunucumuza bağlandıktan sonra bir veritabanı ismi belirleyerek veritabanı oluşturabiliriz. MongoDB, yalnızca içine veri eklediğinizde veritabanını fiziksel olarak oluşturur."
   ]
  },
  {
   "cell_type": "code",
   "execution_count": 15,
   "id": "a2c88a0d",
   "metadata": {},
   "outputs": [],
   "source": [
    "myclient = pymongo.MongoClient(\"mongodb://localhost:27017\")"
   ]
  },
  {
   "cell_type": "code",
   "execution_count": 16,
   "id": "077deac0",
   "metadata": {},
   "outputs": [
    {
     "name": "stdout",
     "output_type": "stream",
     "text": [
      "['admin', 'config', 'dbname', 'local', 'mydatabase', 'student_db', 'student_info']\n"
     ]
    }
   ],
   "source": [
    "print(myclient.list_database_names())"
   ]
  },
  {
   "cell_type": "code",
   "execution_count": 17,
   "id": "fdf72c83",
   "metadata": {},
   "outputs": [
    {
     "name": "stdout",
     "output_type": "stream",
     "text": [
      "exist\n"
     ]
    }
   ],
   "source": [
    "dblist = myclient.list_database_names()\n",
    "if \"dbname\" in dblist:\n",
    "  print(\"The database exists.\")"
   ]
  },
  {
   "cell_type": "code",
   "execution_count": 18,
   "id": "e6d7e7a5",
   "metadata": {},
   "outputs": [],
   "source": [
    "# \"okul_yonetim\" adında bir veritabanı oluştur (veya mevcutsa bağlan)\n",
    "db = myclient[\"okul_yonetim\"]\n",
    "print(\"Veritabanı oluşturuldu veya mevcutsa bağlanıldı.\")"
   ]
  },
  {
   "cell_type": "markdown",
   "id": "971d0345",
   "metadata": {},
   "source": [
    "MongoDB’de veritabanı oluşturduktan sonra, verileri saklayacağımız bir koleksiyon oluşturmamız gerekir. Bu örnekte, öğrencilerin bilgilerini tutmak için ogrenciler adlı bir koleksiyon oluşturacağız. MongoDB, koleksiyonu veritabanına yalnızca içine veri eklediğimizde kaydeder."
   ]
  },
  {
   "cell_type": "code",
   "execution_count": 19,
   "id": "a1e90914",
   "metadata": {},
   "outputs": [],
   "source": [
    "# \"ogrenciler\" adında bir koleksiyon oluştur (veya mevcutsa bağlan)\n",
    "ogrenciler = db[\"ogrenciler\"]\n",
    "print(\"Koleksiyon oluşturuldu veya mevcutsa bağlanıldı.\")\n"
   ]
  },
  {
   "cell_type": "markdown",
   "id": "81c66232",
   "metadata": {},
   "source": [
    "MongoDB’de veritabanı oluşturduktan sonra, verileri saklayacağımız bir koleksiyon oluşturmamız gerekir. Bu örnekte, öğrencilerin bilgilerini tutmak için ogrenciler adlı bir koleksiyon oluşturacağız. MongoDB, koleksiyonu veritabanına yalnızca içine veri eklediğimizde kaydeder."
   ]
  },
  {
   "cell_type": "code",
   "execution_count": 21,
   "id": "81e5c857",
   "metadata": {},
   "outputs": [
    {
     "name": "stdout",
     "output_type": "stream",
     "text": [
      "[]\n"
     ]
    }
   ],
   "source": [
    "print(db.list_collection_names())"
   ]
  },
  {
   "cell_type": "code",
   "execution_count": null,
   "id": "ae78d6ae",
   "metadata": {},
   "outputs": [],
   "source": [
    "collist = db.list_collection_names()\n",
    "if \"ogrenciler\" in collist:\n",
    "  print(\"The collection exists.\")"
   ]
  },
  {
   "cell_type": "markdown",
   "id": "71d1ac47",
   "metadata": {},
   "source": [
    "## Veri Ekleme (Insert)"
   ]
  },
  {
   "cell_type": "code",
   "execution_count": 46,
   "id": "c75e61a2",
   "metadata": {},
   "outputs": [
    {
     "data": {
      "text/plain": [
       "InsertOneResult(ObjectId('672c9d41f6cd8c040a52fd8b'), acknowledged=True)"
      ]
     },
     "execution_count": 46,
     "metadata": {},
     "output_type": "execute_result"
    }
   ],
   "source": [
    "ogrenci = {\"ad\" : \"nur\", \"yas\":21, \"bolum\": \"yazılım mühendisliği\"}\n",
    "ogrenciler.insert_one(ogrenci)"
   ]
  },
  {
   "cell_type": "code",
   "execution_count": 23,
   "id": "f5012fcc",
   "metadata": {},
   "outputs": [
    {
     "data": {
      "text/plain": [
       "InsertManyResult([ObjectId('672c9a6af6cd8c040a52fd87'), ObjectId('672c9a6af6cd8c040a52fd88'), ObjectId('672c9a6af6cd8c040a52fd89')], acknowledged=True)"
      ]
     },
     "execution_count": 23,
     "metadata": {},
     "output_type": "execute_result"
    }
   ],
   "source": [
    "ogrenci_listesi = [\n",
    "    {\"ad\" : \"Ali\", \"yas\":21, \"bolum\": \"bilgisayar mühendisliği\"},\n",
    "    {\"ad\" : \"Ayşe\", \"yas\":22, \"bolum\": \"elektrik mühendisliği\"},\n",
    "    {\"ad\" : \"Nur\", \"yas\":22, \"bolum\": \"yazılım mühendisliği\"},   \n",
    "]\n",
    "ogrenciler.insert_many(ogrenci_listesi)\n"
   ]
  },
  {
   "cell_type": "markdown",
   "id": "a56e48cd",
   "metadata": {},
   "source": [
    "## Veri Okuma (Read)"
   ]
  },
  {
   "cell_type": "code",
   "execution_count": 42,
   "id": "2d5d3fc5",
   "metadata": {},
   "outputs": [
    {
     "name": "stdout",
     "output_type": "stream",
     "text": [
      "{'_id': ObjectId('672c99eaf6cd8c040a52fd86'), 'ad': 'Ahmet', 'yas': 23, 'bolum': 'yazılım mühendisliği'}\n",
      "{'_id': ObjectId('672c9a6af6cd8c040a52fd88'), 'ad': 'Ayşe', 'yas': 22, 'bolum': 'elektrik mühendisliği'}\n"
     ]
    }
   ],
   "source": [
    "for ogrenci in ogrenciler.find():\n",
    "    print(ogrenci)"
   ]
  },
  {
   "cell_type": "code",
   "execution_count": 25,
   "id": "ebf0bfc4",
   "metadata": {},
   "outputs": [
    {
     "name": "stdout",
     "output_type": "stream",
     "text": [
      "{'_id': ObjectId('672c9a6af6cd8c040a52fd88'), 'ad': 'Ayşe', 'yas': 22, 'bolum': 'elektrik mühendisliği'}\n",
      "{'_id': ObjectId('672c9a6af6cd8c040a52fd89'), 'ad': 'Nur', 'yas': 22, 'bolum': 'yazılım mühendisliği'}\n"
     ]
    }
   ],
   "source": [
    "for ogrenci in ogrenciler.find({\"yas\":22}):\n",
    "    print(ogrenci)"
   ]
  },
  {
   "cell_type": "code",
   "execution_count": 31,
   "id": "76953a79",
   "metadata": {},
   "outputs": [
    {
     "name": "stdout",
     "output_type": "stream",
     "text": [
      "{'_id': ObjectId('672c9a6af6cd8c040a52fd88'), 'ad': 'Ayşe', 'yas': 22, 'bolum': 'elektrik mühendisliği'}\n"
     ]
    }
   ],
   "source": [
    "ogrenci = ogrenciler.find_one({\"ad\": 'Ayşe'})\n",
    "print(ogrenci)"
   ]
  },
  {
   "cell_type": "markdown",
   "id": "6a494072",
   "metadata": {},
   "source": [
    "## Veri Güncelleme (Update)"
   ]
  },
  {
   "cell_type": "code",
   "execution_count": 33,
   "id": "e51c92b0",
   "metadata": {},
   "outputs": [
    {
     "data": {
      "text/plain": [
       "UpdateResult({'n': 1, 'nModified': 1, 'ok': 1.0, 'updatedExisting': True}, acknowledged=True)"
      ]
     },
     "execution_count": 33,
     "metadata": {},
     "output_type": "execute_result"
    }
   ],
   "source": [
    "ogrenciler.update_one({\"ad\":\"Nur\"}, {\"$set\": {\"yas\":28}})"
   ]
  },
  {
   "cell_type": "code",
   "execution_count": 35,
   "id": "52913e35",
   "metadata": {},
   "outputs": [
    {
     "data": {
      "text/plain": [
       "UpdateResult({'n': 2, 'nModified': 2, 'ok': 1.0, 'updatedExisting': True}, acknowledged=True)"
      ]
     },
     "execution_count": 35,
     "metadata": {},
     "output_type": "execute_result"
    }
   ],
   "source": [
    "ogrenciler.update_many({\"bolum\":\"yazılım mühendisliği\"}, {\"$set\": {\"yas\":23}})"
   ]
  },
  {
   "cell_type": "markdown",
   "id": "78bdd003",
   "metadata": {},
   "source": [
    "## Veri Silme (Delete)"
   ]
  },
  {
   "cell_type": "code",
   "execution_count": 37,
   "id": "3f67ddf5",
   "metadata": {},
   "outputs": [
    {
     "data": {
      "text/plain": [
       "DeleteResult({'n': 1, 'ok': 1.0}, acknowledged=True)"
      ]
     },
     "execution_count": 37,
     "metadata": {},
     "output_type": "execute_result"
    }
   ],
   "source": [
    "ogrenciler.delete_one({\"ad\":\"Nur\"})"
   ]
  },
  {
   "cell_type": "code",
   "execution_count": 41,
   "id": "145a9389",
   "metadata": {},
   "outputs": [
    {
     "data": {
      "text/plain": [
       "DeleteResult({'n': 2, 'ok': 1.0}, acknowledged=True)"
      ]
     },
     "execution_count": 41,
     "metadata": {},
     "output_type": "execute_result"
    }
   ],
   "source": [
    "ogrenciler.delete_many({\"yas\":21})"
   ]
  },
  {
   "cell_type": "code",
   "execution_count": null,
   "id": "e362a007",
   "metadata": {},
   "outputs": [],
   "source": [
    "# Tüm öğrencileri sil\n",
    "ogrenciler.delete_many({})\n",
    "print(\"Tüm öğrenciler silindi.\")"
   ]
  },
  {
   "cell_type": "markdown",
   "id": "e337fd0d",
   "metadata": {},
   "source": [
    "## Sıralama"
   ]
  },
  {
   "cell_type": "code",
   "execution_count": 43,
   "id": "4792ea92",
   "metadata": {},
   "outputs": [
    {
     "name": "stdout",
     "output_type": "stream",
     "text": [
      "{'_id': ObjectId('672c9a6af6cd8c040a52fd88'), 'ad': 'Ayşe', 'yas': 22, 'bolum': 'elektrik mühendisliği'}\n",
      "{'_id': ObjectId('672c99eaf6cd8c040a52fd86'), 'ad': 'Ahmet', 'yas': 23, 'bolum': 'yazılım mühendisliği'}\n"
     ]
    }
   ],
   "source": [
    "for ogrenci in ogrenciler.find().sort(\"yas\",1):\n",
    "    print(ogrenci)"
   ]
  },
  {
   "cell_type": "code",
   "execution_count": 52,
   "id": "4b726712",
   "metadata": {},
   "outputs": [
    {
     "name": "stdout",
     "output_type": "stream",
     "text": [
      "{'_id': ObjectId('672c99eaf6cd8c040a52fd86'), 'ad': 'Ahmet', 'yas': 23, 'bolum': 'yazılım mühendisliği'}\n",
      "{'_id': ObjectId('672c9a6af6cd8c040a52fd88'), 'ad': 'Ayşe', 'yas': 22, 'bolum': 'elektrik mühendisliği'}\n",
      "{'_id': ObjectId('672c9d41f6cd8c040a52fd8b'), 'ad': 'nur', 'yas': 21, 'bolum': 'yazılım mühendisliği'}\n"
     ]
    }
   ],
   "source": [
    "for ogrenci in ogrenciler.find().sort(\"yas\",-1):\n",
    "    print(ogrenci)"
   ]
  },
  {
   "cell_type": "code",
   "execution_count": 47,
   "id": "fae2688f",
   "metadata": {},
   "outputs": [
    {
     "name": "stdout",
     "output_type": "stream",
     "text": [
      "{'_id': ObjectId('672c9a6af6cd8c040a52fd88'), 'ad': 'Ayşe', 'yas': 22, 'bolum': 'elektrik mühendisliği'}\n",
      "{'_id': ObjectId('672c99eaf6cd8c040a52fd86'), 'ad': 'Ahmet', 'yas': 23, 'bolum': 'yazılım mühendisliği'}\n",
      "{'_id': ObjectId('672c9d41f6cd8c040a52fd8b'), 'ad': 'nur', 'yas': 21, 'bolum': 'yazılım mühendisliği'}\n"
     ]
    }
   ],
   "source": [
    "for ogrenci in ogrenciler.find().sort([(\"bolum\",1),(\"yas\",-1)]):\n",
    "    print(ogrenci)"
   ]
  },
  {
   "cell_type": "markdown",
   "id": "aaff4368",
   "metadata": {},
   "source": [
    "## Limit"
   ]
  },
  {
   "cell_type": "code",
   "execution_count": 48,
   "id": "4b7f0fe2",
   "metadata": {},
   "outputs": [
    {
     "name": "stdout",
     "output_type": "stream",
     "text": [
      "{'_id': ObjectId('672c9d41f6cd8c040a52fd8b'), 'ad': 'nur', 'yas': 21, 'bolum': 'yazılım mühendisliği'}\n",
      "{'_id': ObjectId('672c9a6af6cd8c040a52fd88'), 'ad': 'Ayşe', 'yas': 22, 'bolum': 'elektrik mühendisliği'}\n"
     ]
    }
   ],
   "source": [
    "for ogrenci in ogrenciler.find().sort(\"yas\",1).limit(2):\n",
    "    print(ogrenci)"
   ]
  },
  {
   "cell_type": "code",
   "execution_count": 49,
   "id": "4cdf79af",
   "metadata": {},
   "outputs": [
    {
     "name": "stdout",
     "output_type": "stream",
     "text": [
      "{'_id': ObjectId('672c9a6af6cd8c040a52fd88'), 'ad': 'Ayşe', 'yas': 22, 'bolum': 'elektrik mühendisliği'}\n",
      "{'_id': ObjectId('672c99eaf6cd8c040a52fd86'), 'ad': 'Ahmet', 'yas': 23, 'bolum': 'yazılım mühendisliği'}\n"
     ]
    }
   ],
   "source": [
    "for ogrenci in ogrenciler.find().sort(\"bolum\",1).limit(2):\n",
    "    print(ogrenci)"
   ]
  },
  {
   "cell_type": "markdown",
   "id": "7d4a05db",
   "metadata": {},
   "source": [
    "## regex ile Desen Arama (Düzenli İfade)"
   ]
  },
  {
   "cell_type": "raw",
   "id": "787a3e64",
   "metadata": {},
   "source": [
    "regex, belirli bir desene uygun olan belgeleri bulmak için kullanılır. Bu, özellikle belirli bir sözcük veya karakter grubuyla başlayan, biten veya içeren belgeleri aramak için oldukça kullanışlıdır."
   ]
  },
  {
   "cell_type": "code",
   "execution_count": 51,
   "id": "1d64362f",
   "metadata": {},
   "outputs": [
    {
     "name": "stdout",
     "output_type": "stream",
     "text": [
      "{'_id': ObjectId('672c99eaf6cd8c040a52fd86'), 'ad': 'Ahmet', 'yas': 23, 'bolum': 'yazılım mühendisliği'}\n",
      "{'_id': ObjectId('672c9a6af6cd8c040a52fd88'), 'ad': 'Ayşe', 'yas': 22, 'bolum': 'elektrik mühendisliği'}\n"
     ]
    }
   ],
   "source": [
    "for ogrenci in ogrenciler.find({\"ad\" : {\"$regex\":\"^A\"}}):\n",
    "    print(ogrenci)"
   ]
  },
  {
   "cell_type": "code",
   "execution_count": 53,
   "id": "d39b3f3e",
   "metadata": {},
   "outputs": [
    {
     "name": "stdout",
     "output_type": "stream",
     "text": [
      "{'_id': ObjectId('672c99eaf6cd8c040a52fd86'), 'ad': 'Ahmet', 'yas': 23, 'bolum': 'yazılım mühendisliği'}\n"
     ]
    }
   ],
   "source": [
    "for ogrenci in ogrenciler.find({\"ad\" : {\"$regex\":\"t$\"}}):\n",
    "    print(ogrenci)"
   ]
  },
  {
   "cell_type": "code",
   "execution_count": 54,
   "id": "005dd090",
   "metadata": {},
   "outputs": [
    {
     "name": "stdout",
     "output_type": "stream",
     "text": [
      "{'_id': ObjectId('672c99eaf6cd8c040a52fd86'), 'ad': 'Ahmet', 'yas': 23, 'bolum': 'yazılım mühendisliği'}\n",
      "{'_id': ObjectId('672c9d41f6cd8c040a52fd8b'), 'ad': 'nur', 'yas': 21, 'bolum': 'yazılım mühendisliği'}\n"
     ]
    }
   ],
   "source": [
    "for ogrenci in ogrenciler.find({\"bolum\" : {\"$regex\":\"yazılım\"}}):\n",
    "    print(ogrenci)"
   ]
  },
  {
   "cell_type": "code",
   "execution_count": 55,
   "id": "e1285ab8",
   "metadata": {},
   "outputs": [
    {
     "name": "stdout",
     "output_type": "stream",
     "text": [
      "{'_id': ObjectId('672c99eaf6cd8c040a52fd86'), 'ad': 'Ahmet', 'yas': 23, 'bolum': 'yazılım mühendisliği'}\n"
     ]
    }
   ],
   "source": [
    "for ogrenci in ogrenciler.find({\"ad\" : {\"$regex\":\"ahmet\", \"$options\":\"i\"}}):\n",
    "    print(ogrenci)"
   ]
  },
  {
   "cell_type": "code",
   "execution_count": 56,
   "id": "2abf0ec6",
   "metadata": {},
   "outputs": [
    {
     "name": "stdout",
     "output_type": "stream",
     "text": [
      "{'_id': ObjectId('672c99eaf6cd8c040a52fd86'), 'ad': 'Ahmet', 'yas': 23, 'bolum': 'yazılım mühendisliği'}\n",
      "{'_id': ObjectId('672c9a6af6cd8c040a52fd88'), 'ad': 'Ayşe', 'yas': 22, 'bolum': 'elektrik mühendisliği'}\n"
     ]
    }
   ],
   "source": [
    "for ogrenci in ogrenciler.find({\"ad\" : {\"$regex\":\"^a\", \"$options\":\"i\"}}).sort(\"yas\",-1).limit(2):\n",
    "    print(ogrenci)"
   ]
  },
  {
   "cell_type": "markdown",
   "id": "5cd08d8b",
   "metadata": {},
   "source": [
    "## Veritabanını Silme"
   ]
  },
  {
   "cell_type": "code",
   "execution_count": 62,
   "id": "206d41cf",
   "metadata": {},
   "outputs": [
    {
     "name": "stdout",
     "output_type": "stream",
     "text": [
      "Veritabanı silindi.\n"
     ]
    }
   ],
   "source": [
    "# \"okul_yonetim\" veritabanını sil\n",
    "myclient.drop_database(\"okul_yonetim\")\n",
    "print(\"Veritabanı silindi.\")\n"
   ]
  },
  {
   "cell_type": "markdown",
   "id": "5c781619",
   "metadata": {},
   "source": [
    "# ÖRNEK UYGULAMA"
   ]
  },
  {
   "cell_type": "markdown",
   "id": "efec761b",
   "metadata": {},
   "source": [
    "db_name --> universite\n",
    "3 collection ekleyin\n",
    "1. ogrenciler\n",
    "_id, ad, yas, bolum, gno\n",
    "2. dersler\n",
    "_id, ders_adi, kredi, ogretmen_ismi\n",
    "3. ogretmenler\n",
    "_id, ad, bolum, deneyim\n",
    "\n",
    "insert_many ile en az 3 veri (documents) ekleyelim\n",
    "find ile collectionların içeriğini görüntüleyelim\n",
    "Belirli bir ifadeyle başlayan isimlerin olduğu documanları listeleyelim\n",
    "Genel not ortalamasına göre azalan sırada listeleyelim\n",
    "Dersin adında algoritma geçenleri listeleyelim\n",
    "deneyimi 5 yıl olan öğretmenleri listeleylim\n",
    "Gno'su 3 ile 4 arasında olan öğrencileri sıralayalım\n",
    "adı ahmet olan öğrencinin gno'sını 3.5 olarak güncelleyelim\n",
    "Bölümü bilgisayar olan tüm öğrencilerin yaşlarını bir artırarak güncelleyelim\n",
    "dersler koleksiyonunda des_adi yapay zeka olan dersin kredisini 5 yapalım ve zorunlu_ders:True\n",
    "olarak yeni bir alan ekleyelim\n",
    "gno değeri 2.5'dan düşük tüm öğrencileri silelim\n",
    "en son veritabanını silelim "
   ]
  },
  {
   "cell_type": "code",
   "execution_count": 58,
   "id": "25569447",
   "metadata": {},
   "outputs": [],
   "source": [
    "from pymongo import MongoClient\n",
    "client = MongoClient(\"mongodb://localhost:27017\")"
   ]
  },
  {
   "cell_type": "code",
   "execution_count": 59,
   "id": "4534c171",
   "metadata": {},
   "outputs": [],
   "source": [
    "db = client[\"universite\"]"
   ]
  },
  {
   "cell_type": "code",
   "execution_count": 60,
   "id": "d399e565",
   "metadata": {},
   "outputs": [],
   "source": [
    "ogrenciler = db[\"ogrenciler\"]\n",
    "dersler = db[\"dersler\"]\n",
    "ogretmenler = db[\"ogretmenler\"]"
   ]
  },
  {
   "cell_type": "code",
   "execution_count": 61,
   "id": "df834f60",
   "metadata": {},
   "outputs": [
    {
     "data": {
      "text/plain": [
       "InsertManyResult([1, 2, 3, 4], acknowledged=True)"
      ]
     },
     "execution_count": 61,
     "metadata": {},
     "output_type": "execute_result"
    }
   ],
   "source": [
    "ogrenciler_veri = [\n",
    "    {\"_id\":1, \"ad\": \"Ahmet\", \"yas\":22, \"bolum\": \"yazılım\", \"gno\":3.0},\n",
    "    {\"_id\":2, \"ad\": \"Ayşe\", \"yas\":21, \"bolum\": \"makine\", \"gno\":2.0},\n",
    "    {\"_id\":3, \"ad\": \"Mehmet\", \"yas\":20, \"bolum\": \"elektrik\", \"gno\":3.5},\n",
    "    {\"_id\":4, \"ad\": \"Mehmet\", \"yas\":20, \"bolum\": \"bilgisayar\", \"gno\":2.5}\n",
    "]\n",
    "ogrenciler.insert_many(ogrenciler_veri)"
   ]
  },
  {
   "cell_type": "code",
   "execution_count": null,
   "id": "51c01757",
   "metadata": {},
   "outputs": [],
   "source": []
  }
 ],
 "metadata": {
  "kernelspec": {
   "display_name": "Python 3 (ipykernel)",
   "language": "python",
   "name": "python3"
  },
  "language_info": {
   "codemirror_mode": {
    "name": "ipython",
    "version": 3
   },
   "file_extension": ".py",
   "mimetype": "text/x-python",
   "name": "python",
   "nbconvert_exporter": "python",
   "pygments_lexer": "ipython3",
   "version": "3.10.9"
  }
 },
 "nbformat": 4,
 "nbformat_minor": 5
}
