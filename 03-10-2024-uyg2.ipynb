{
 "cells": [
  {
   "cell_type": "markdown",
   "id": "cc1b4ea9",
   "metadata": {},
   "source": [
    "# Collections"
   ]
  },
  {
   "cell_type": "markdown",
   "id": "777c488a",
   "metadata": {},
   "source": [
    "Liste"
   ]
  },
  {
   "cell_type": "code",
   "execution_count": 1,
   "id": "7878da61",
   "metadata": {},
   "outputs": [],
   "source": [
    "bos_liste = []"
   ]
  },
  {
   "cell_type": "code",
   "execution_count": 2,
   "id": "271d67d9",
   "metadata": {},
   "outputs": [
    {
     "name": "stdout",
     "output_type": "stream",
     "text": [
      "<class 'list'>\n"
     ]
    }
   ],
   "source": [
    "print(type(bos_liste))"
   ]
  },
  {
   "cell_type": "code",
   "execution_count": 3,
   "id": "7a926b67",
   "metadata": {},
   "outputs": [],
   "source": [
    "meyveler = [\"elma\", \"armut\", \"muz\", \"çilek\"]"
   ]
  },
  {
   "cell_type": "code",
   "execution_count": 4,
   "id": "f0c69c0c",
   "metadata": {},
   "outputs": [],
   "source": [
    "meyveler.append(\"portakal\")"
   ]
  },
  {
   "cell_type": "code",
   "execution_count": 5,
   "id": "43fbbfde",
   "metadata": {},
   "outputs": [
    {
     "name": "stdout",
     "output_type": "stream",
     "text": [
      "['elma', 'armut', 'muz', 'çilek', 'portakal']\n"
     ]
    }
   ],
   "source": [
    "print(meyveler)"
   ]
  },
  {
   "cell_type": "code",
   "execution_count": 6,
   "id": "62c191ae",
   "metadata": {},
   "outputs": [],
   "source": [
    "meyveler.insert(2,\"şeftali\")"
   ]
  },
  {
   "cell_type": "code",
   "execution_count": 7,
   "id": "2bc28fed",
   "metadata": {},
   "outputs": [
    {
     "name": "stdout",
     "output_type": "stream",
     "text": [
      "['elma', 'armut', 'şeftali', 'muz', 'çilek', 'portakal']\n"
     ]
    }
   ],
   "source": [
    "print(meyveler)"
   ]
  },
  {
   "cell_type": "code",
   "execution_count": 8,
   "id": "15a37e2d",
   "metadata": {},
   "outputs": [],
   "source": [
    "yeni_meyveler = [\"kivi\", \"mango\"]\n",
    "meyveler.extend(yeni_meyveler)"
   ]
  },
  {
   "cell_type": "code",
   "execution_count": 9,
   "id": "e4b1a8aa",
   "metadata": {},
   "outputs": [
    {
     "name": "stdout",
     "output_type": "stream",
     "text": [
      "['elma', 'armut', 'şeftali', 'muz', 'çilek', 'portakal', 'kivi', 'mango']\n"
     ]
    }
   ],
   "source": [
    "print(meyveler)"
   ]
  },
  {
   "cell_type": "code",
   "execution_count": 10,
   "id": "19b12b39",
   "metadata": {},
   "outputs": [
    {
     "name": "stdout",
     "output_type": "stream",
     "text": [
      "elma\n"
     ]
    }
   ],
   "source": [
    "print(meyveler[0])"
   ]
  },
  {
   "cell_type": "code",
   "execution_count": 11,
   "id": "3f02aff3",
   "metadata": {},
   "outputs": [
    {
     "name": "stdout",
     "output_type": "stream",
     "text": [
      "mango\n"
     ]
    }
   ],
   "source": [
    "print(meyveler[-1])"
   ]
  },
  {
   "cell_type": "code",
   "execution_count": 12,
   "id": "970e99f4",
   "metadata": {},
   "outputs": [
    {
     "name": "stdout",
     "output_type": "stream",
     "text": [
      "['şeftali', 'muz']\n"
     ]
    }
   ],
   "source": [
    "print(meyveler[2:4])"
   ]
  },
  {
   "cell_type": "code",
   "execution_count": 13,
   "id": "46de7865",
   "metadata": {},
   "outputs": [
    {
     "name": "stdout",
     "output_type": "stream",
     "text": [
      "['şeftali', 'muz', 'çilek', 'portakal', 'kivi', 'mango']\n"
     ]
    }
   ],
   "source": [
    "print(meyveler[2::])"
   ]
  },
  {
   "cell_type": "code",
   "execution_count": 15,
   "id": "a6b9a76d",
   "metadata": {},
   "outputs": [
    {
     "name": "stdout",
     "output_type": "stream",
     "text": [
      "['portakal', 'kivi']\n"
     ]
    }
   ],
   "source": [
    "print(meyveler[-3:-1])"
   ]
  },
  {
   "cell_type": "code",
   "execution_count": 16,
   "id": "2dd7ead1",
   "metadata": {},
   "outputs": [
    {
     "name": "stdout",
     "output_type": "stream",
     "text": [
      "['elma', 'armut', 'şeftali', 'muz', 'çilek', 'portakal', 'kivi', 'mango']\n"
     ]
    }
   ],
   "source": [
    "print(meyveler)"
   ]
  },
  {
   "cell_type": "code",
   "execution_count": 17,
   "id": "e9a8da65",
   "metadata": {},
   "outputs": [],
   "source": [
    "meyveler[1] = \"greyfurt\""
   ]
  },
  {
   "cell_type": "code",
   "execution_count": 18,
   "id": "0190a88b",
   "metadata": {},
   "outputs": [
    {
     "name": "stdout",
     "output_type": "stream",
     "text": [
      "['elma', 'greyfurt', 'şeftali', 'muz', 'çilek', 'portakal', 'kivi', 'mango']\n"
     ]
    }
   ],
   "source": [
    "print(meyveler)"
   ]
  },
  {
   "cell_type": "code",
   "execution_count": 19,
   "id": "a5df48e9",
   "metadata": {},
   "outputs": [],
   "source": [
    "meyveler.remove(\"muz\")"
   ]
  },
  {
   "cell_type": "code",
   "execution_count": 20,
   "id": "2994472b",
   "metadata": {},
   "outputs": [
    {
     "name": "stdout",
     "output_type": "stream",
     "text": [
      "['elma', 'greyfurt', 'şeftali', 'çilek', 'portakal', 'kivi', 'mango']\n"
     ]
    }
   ],
   "source": [
    "print(meyveler)"
   ]
  },
  {
   "cell_type": "code",
   "execution_count": 21,
   "id": "4d5fb285",
   "metadata": {},
   "outputs": [
    {
     "data": {
      "text/plain": [
       "'mango'"
      ]
     },
     "execution_count": 21,
     "metadata": {},
     "output_type": "execute_result"
    }
   ],
   "source": [
    "meyveler.pop()"
   ]
  },
  {
   "cell_type": "code",
   "execution_count": 22,
   "id": "1da44f2e",
   "metadata": {},
   "outputs": [
    {
     "name": "stdout",
     "output_type": "stream",
     "text": [
      "['elma', 'greyfurt', 'şeftali', 'çilek', 'portakal', 'kivi']\n"
     ]
    }
   ],
   "source": [
    "print(meyveler)"
   ]
  },
  {
   "cell_type": "code",
   "execution_count": 23,
   "id": "4e1c9aea",
   "metadata": {},
   "outputs": [],
   "source": [
    "meyveler.clear()"
   ]
  },
  {
   "cell_type": "code",
   "execution_count": 24,
   "id": "850a9546",
   "metadata": {},
   "outputs": [
    {
     "name": "stdout",
     "output_type": "stream",
     "text": [
      "[]\n"
     ]
    }
   ],
   "source": [
    "print(meyveler)"
   ]
  },
  {
   "cell_type": "code",
   "execution_count": 25,
   "id": "482927d0",
   "metadata": {},
   "outputs": [],
   "source": [
    "my_list = [1,2,3,4,5,5,5]"
   ]
  },
  {
   "cell_type": "code",
   "execution_count": 26,
   "id": "3cea5a0c",
   "metadata": {},
   "outputs": [],
   "source": [
    "uzunluk = len(my_list)"
   ]
  },
  {
   "cell_type": "code",
   "execution_count": 27,
   "id": "2df0811e",
   "metadata": {},
   "outputs": [
    {
     "name": "stdout",
     "output_type": "stream",
     "text": [
      "7\n"
     ]
    }
   ],
   "source": [
    "print(uzunluk)"
   ]
  },
  {
   "cell_type": "code",
   "execution_count": 28,
   "id": "d87f9733",
   "metadata": {},
   "outputs": [
    {
     "name": "stdout",
     "output_type": "stream",
     "text": [
      "3\n"
     ]
    }
   ],
   "source": [
    "print(my_list.count(5))"
   ]
  },
  {
   "cell_type": "code",
   "execution_count": 30,
   "id": "6fca3bad",
   "metadata": {},
   "outputs": [
    {
     "name": "stdout",
     "output_type": "stream",
     "text": [
      "2\n"
     ]
    }
   ],
   "source": [
    "print(my_list.index(3))"
   ]
  },
  {
   "cell_type": "code",
   "execution_count": 31,
   "id": "ff976272",
   "metadata": {},
   "outputs": [],
   "source": [
    "my_list = [2,3,8,5]"
   ]
  },
  {
   "cell_type": "code",
   "execution_count": 32,
   "id": "004ebfe2",
   "metadata": {},
   "outputs": [],
   "source": [
    "my_list.sort()"
   ]
  },
  {
   "cell_type": "code",
   "execution_count": 33,
   "id": "2e5c4144",
   "metadata": {},
   "outputs": [
    {
     "name": "stdout",
     "output_type": "stream",
     "text": [
      "[2, 3, 5, 8]\n"
     ]
    }
   ],
   "source": [
    "print(my_list)"
   ]
  },
  {
   "cell_type": "code",
   "execution_count": 34,
   "id": "f3c58968",
   "metadata": {},
   "outputs": [],
   "source": [
    "my_list.reverse()"
   ]
  },
  {
   "cell_type": "code",
   "execution_count": 35,
   "id": "cab7fbe1",
   "metadata": {},
   "outputs": [
    {
     "name": "stdout",
     "output_type": "stream",
     "text": [
      "[8, 5, 3, 2]\n"
     ]
    }
   ],
   "source": [
    "print(my_list)"
   ]
  },
  {
   "cell_type": "code",
   "execution_count": 36,
   "id": "00b56125",
   "metadata": {},
   "outputs": [],
   "source": [
    "my_list2 = my_list.copy()"
   ]
  },
  {
   "cell_type": "code",
   "execution_count": 37,
   "id": "35991bd0",
   "metadata": {},
   "outputs": [
    {
     "name": "stdout",
     "output_type": "stream",
     "text": [
      "[8, 5, 3, 2]\n"
     ]
    }
   ],
   "source": [
    "print(my_list2)"
   ]
  },
  {
   "cell_type": "code",
   "execution_count": 38,
   "id": "accdb69d",
   "metadata": {},
   "outputs": [],
   "source": [
    "my_list3 = my_list[:]"
   ]
  },
  {
   "cell_type": "code",
   "execution_count": 39,
   "id": "53df2183",
   "metadata": {},
   "outputs": [
    {
     "name": "stdout",
     "output_type": "stream",
     "text": [
      "[8, 5, 3, 2]\n"
     ]
    }
   ],
   "source": [
    "print(my_list3)"
   ]
  },
  {
   "cell_type": "code",
   "execution_count": 40,
   "id": "0e2743fb",
   "metadata": {},
   "outputs": [],
   "source": [
    "birlesik_liste = my_list2 + my_list3"
   ]
  },
  {
   "cell_type": "code",
   "execution_count": 41,
   "id": "f8a2e07d",
   "metadata": {},
   "outputs": [
    {
     "name": "stdout",
     "output_type": "stream",
     "text": [
      "[8, 5, 3, 2, 8, 5, 3, 2]\n"
     ]
    }
   ],
   "source": [
    "print(birlesik_liste)"
   ]
  },
  {
   "cell_type": "markdown",
   "id": "bc8bdd6e",
   "metadata": {},
   "source": [
    "Dictionary"
   ]
  },
  {
   "cell_type": "code",
   "execution_count": 42,
   "id": "2bab7957",
   "metadata": {},
   "outputs": [
    {
     "name": "stdout",
     "output_type": "stream",
     "text": [
      "{'ad': 'Ahmet', 'yas': 30, 'meslek': 'muhendis'}\n"
     ]
    }
   ],
   "source": [
    "kisi_bilgileri = {\n",
    "    \"ad\" : \"Ahmet\",\n",
    "    \"yas\" : 30,\n",
    "    \"meslek\": \"muhendis\"\n",
    "}\n",
    "print(kisi_bilgileri)\n"
   ]
  },
  {
   "cell_type": "code",
   "execution_count": 44,
   "id": "37b81979",
   "metadata": {},
   "outputs": [
    {
     "name": "stdout",
     "output_type": "stream",
     "text": [
      "muhendis\n"
     ]
    }
   ],
   "source": [
    "print(kisi_bilgileri[\"meslek\"])"
   ]
  },
  {
   "cell_type": "code",
   "execution_count": 45,
   "id": "0444cf1c",
   "metadata": {},
   "outputs": [],
   "source": [
    "kisi_bilgileri[\"sehir\"] = \"Kutahya\""
   ]
  },
  {
   "cell_type": "code",
   "execution_count": 46,
   "id": "df84477c",
   "metadata": {},
   "outputs": [
    {
     "name": "stdout",
     "output_type": "stream",
     "text": [
      "{'ad': 'Ahmet', 'yas': 30, 'meslek': 'muhendis', 'sehir': 'Kutahya'}\n"
     ]
    }
   ],
   "source": [
    "print(kisi_bilgileri)"
   ]
  },
  {
   "cell_type": "code",
   "execution_count": 47,
   "id": "0e8bf1cb",
   "metadata": {},
   "outputs": [],
   "source": [
    "del kisi_bilgileri[\"meslek\"]"
   ]
  },
  {
   "cell_type": "code",
   "execution_count": 48,
   "id": "5e89a28f",
   "metadata": {},
   "outputs": [
    {
     "name": "stdout",
     "output_type": "stream",
     "text": [
      "{'ad': 'Ahmet', 'yas': 30, 'sehir': 'Kutahya'}\n"
     ]
    }
   ],
   "source": [
    "print(kisi_bilgileri)"
   ]
  },
  {
   "cell_type": "code",
   "execution_count": 49,
   "id": "30f94997",
   "metadata": {},
   "outputs": [
    {
     "name": "stdout",
     "output_type": "stream",
     "text": [
      "dict_keys(['ad', 'yas', 'sehir'])\n"
     ]
    }
   ],
   "source": [
    "print(kisi_bilgileri.keys())"
   ]
  },
  {
   "cell_type": "code",
   "execution_count": 50,
   "id": "4654bbc8",
   "metadata": {},
   "outputs": [
    {
     "name": "stdout",
     "output_type": "stream",
     "text": [
      "dict_values(['Ahmet', 30, 'Kutahya'])\n"
     ]
    }
   ],
   "source": [
    "print(kisi_bilgileri.values())"
   ]
  },
  {
   "cell_type": "code",
   "execution_count": 51,
   "id": "86f90daf",
   "metadata": {},
   "outputs": [
    {
     "name": "stdout",
     "output_type": "stream",
     "text": [
      "dict_items([('ad', 'Ahmet'), ('yas', 30), ('sehir', 'Kutahya')])\n"
     ]
    }
   ],
   "source": [
    "print(kisi_bilgileri.items())"
   ]
  },
  {
   "cell_type": "markdown",
   "id": "a0300c6f",
   "metadata": {},
   "source": [
    "TUPLE"
   ]
  },
  {
   "cell_type": "code",
   "execution_count": 56,
   "id": "4a04d373",
   "metadata": {},
   "outputs": [],
   "source": [
    "my_tuple = (1,2,3,4,5)"
   ]
  },
  {
   "cell_type": "code",
   "execution_count": 53,
   "id": "f01436eb",
   "metadata": {},
   "outputs": [],
   "source": [
    "single_element_tuple = (2,)"
   ]
  },
  {
   "cell_type": "code",
   "execution_count": 55,
   "id": "b798a24a",
   "metadata": {},
   "outputs": [
    {
     "name": "stdout",
     "output_type": "stream",
     "text": [
      "2\n"
     ]
    }
   ],
   "source": [
    "print(my_tuple[1])"
   ]
  },
  {
   "cell_type": "code",
   "execution_count": 57,
   "id": "ea46fa61",
   "metadata": {},
   "outputs": [
    {
     "name": "stdout",
     "output_type": "stream",
     "text": [
      "(2, 3)\n"
     ]
    }
   ],
   "source": [
    "print(my_tuple[1:3])"
   ]
  },
  {
   "cell_type": "code",
   "execution_count": 59,
   "id": "009f8226",
   "metadata": {},
   "outputs": [
    {
     "name": "stdout",
     "output_type": "stream",
     "text": [
      "(1, 2, 3, 4, 5)\n"
     ]
    }
   ],
   "source": [
    "print(my_tuple)"
   ]
  },
  {
   "cell_type": "code",
   "execution_count": 58,
   "id": "80816ff2",
   "metadata": {},
   "outputs": [
    {
     "name": "stdout",
     "output_type": "stream",
     "text": [
      "15\n"
     ]
    }
   ],
   "source": [
    "print(sum(my_tuple))"
   ]
  },
  {
   "cell_type": "code",
   "execution_count": 60,
   "id": "74c067dc",
   "metadata": {},
   "outputs": [
    {
     "name": "stdout",
     "output_type": "stream",
     "text": [
      "1\n"
     ]
    }
   ],
   "source": [
    "print(min(my_tuple))"
   ]
  },
  {
   "cell_type": "code",
   "execution_count": 61,
   "id": "2ef45e43",
   "metadata": {},
   "outputs": [
    {
     "name": "stdout",
     "output_type": "stream",
     "text": [
      "5\n"
     ]
    }
   ],
   "source": [
    "print(max(my_tuple))"
   ]
  },
  {
   "cell_type": "code",
   "execution_count": 62,
   "id": "a9cc43e4",
   "metadata": {},
   "outputs": [],
   "source": [
    "tuple2 = (10,20,30)"
   ]
  },
  {
   "cell_type": "code",
   "execution_count": 63,
   "id": "e774d17b",
   "metadata": {},
   "outputs": [],
   "source": [
    "result = my_tuple + tuple2"
   ]
  },
  {
   "cell_type": "code",
   "execution_count": 64,
   "id": "8084ba56",
   "metadata": {},
   "outputs": [
    {
     "name": "stdout",
     "output_type": "stream",
     "text": [
      "(1, 2, 3, 4, 5, 10, 20, 30)\n"
     ]
    }
   ],
   "source": [
    "print(result)"
   ]
  },
  {
   "cell_type": "code",
   "execution_count": 66,
   "id": "b3af4a17",
   "metadata": {},
   "outputs": [
    {
     "name": "stdout",
     "output_type": "stream",
     "text": [
      "False\n"
     ]
    }
   ],
   "source": [
    "print(15 in result)"
   ]
  },
  {
   "cell_type": "code",
   "execution_count": 67,
   "id": "4670837d",
   "metadata": {},
   "outputs": [],
   "source": [
    "my_tuple = (1,2,2,3,4)"
   ]
  },
  {
   "cell_type": "code",
   "execution_count": 69,
   "id": "1f0c571a",
   "metadata": {},
   "outputs": [
    {
     "name": "stdout",
     "output_type": "stream",
     "text": [
      "2\n"
     ]
    }
   ],
   "source": [
    "print(my_tuple.count(2))"
   ]
  },
  {
   "cell_type": "code",
   "execution_count": 70,
   "id": "5e6dc44d",
   "metadata": {},
   "outputs": [
    {
     "name": "stdout",
     "output_type": "stream",
     "text": [
      "3\n"
     ]
    }
   ],
   "source": [
    "print(my_tuple.index(3))"
   ]
  },
  {
   "cell_type": "code",
   "execution_count": 71,
   "id": "c5e37bc5",
   "metadata": {},
   "outputs": [
    {
     "name": "stdout",
     "output_type": "stream",
     "text": [
      "5\n"
     ]
    }
   ],
   "source": [
    "print(len(my_tuple))"
   ]
  },
  {
   "cell_type": "code",
   "execution_count": 72,
   "id": "20567b44",
   "metadata": {},
   "outputs": [
    {
     "name": "stdout",
     "output_type": "stream",
     "text": [
      "(1, 2)\n"
     ]
    }
   ],
   "source": [
    "print(my_tuple[:2])"
   ]
  },
  {
   "cell_type": "code",
   "execution_count": 73,
   "id": "7db4fcdb",
   "metadata": {},
   "outputs": [
    {
     "name": "stdout",
     "output_type": "stream",
     "text": [
      "(1, 2, 2, 3, 4, 3)\n"
     ]
    }
   ],
   "source": [
    "print(my_tuple + (3,))"
   ]
  },
  {
   "cell_type": "markdown",
   "id": "51eb12d0",
   "metadata": {},
   "source": [
    "1 - TUPLE OLUŞTURUN\n",
    "2- LİSTEYE ÇEVİRİN VE İLK HALİNİ YAZDIRIN\n",
    "3- GÜNCELLEME, EKLEME, SİLME İŞLEMLERİNİ YAPIN\n",
    "4- LİSTEYİ TUPLE A DÖNÜŞTÜRÜN\n",
    "5- PRİNT İLE ÇIKTIYI YAZDIRIN"
   ]
  },
  {
   "cell_type": "code",
   "execution_count": 74,
   "id": "fcb65a17",
   "metadata": {},
   "outputs": [],
   "source": [
    "my_tuple1 = (1,2,3,4,5)"
   ]
  },
  {
   "cell_type": "code",
   "execution_count": 75,
   "id": "46b050e8",
   "metadata": {},
   "outputs": [],
   "source": [
    "my_list = list(my_tuple1)"
   ]
  },
  {
   "cell_type": "code",
   "execution_count": 76,
   "id": "82872040",
   "metadata": {},
   "outputs": [
    {
     "name": "stdout",
     "output_type": "stream",
     "text": [
      "[1, 2, 3, 4, 5]\n"
     ]
    }
   ],
   "source": [
    "print(my_list)"
   ]
  },
  {
   "cell_type": "code",
   "execution_count": 77,
   "id": "e1fcbc75",
   "metadata": {},
   "outputs": [],
   "source": [
    "my_list.append(6)"
   ]
  },
  {
   "cell_type": "code",
   "execution_count": 78,
   "id": "11fce7ca",
   "metadata": {},
   "outputs": [
    {
     "name": "stdout",
     "output_type": "stream",
     "text": [
      "[1, 2, 3, 4, 5, 6]\n"
     ]
    }
   ],
   "source": [
    "print(my_list)"
   ]
  },
  {
   "cell_type": "code",
   "execution_count": 79,
   "id": "cc227379",
   "metadata": {},
   "outputs": [
    {
     "data": {
      "text/plain": [
       "6"
      ]
     },
     "execution_count": 79,
     "metadata": {},
     "output_type": "execute_result"
    }
   ],
   "source": [
    "my_list.pop()"
   ]
  },
  {
   "cell_type": "code",
   "execution_count": 80,
   "id": "4988a631",
   "metadata": {},
   "outputs": [
    {
     "name": "stdout",
     "output_type": "stream",
     "text": [
      "[1, 2, 3, 4, 5]\n"
     ]
    }
   ],
   "source": [
    "print(my_list)"
   ]
  },
  {
   "cell_type": "code",
   "execution_count": 81,
   "id": "95a3f4e3",
   "metadata": {},
   "outputs": [],
   "source": [
    "my_list[0]=10"
   ]
  },
  {
   "cell_type": "code",
   "execution_count": 82,
   "id": "9ebd601c",
   "metadata": {},
   "outputs": [
    {
     "name": "stdout",
     "output_type": "stream",
     "text": [
      "[10, 2, 3, 4, 5]\n"
     ]
    }
   ],
   "source": [
    "print(my_list)"
   ]
  },
  {
   "cell_type": "code",
   "execution_count": 83,
   "id": "69cafc75",
   "metadata": {},
   "outputs": [],
   "source": [
    "my_tuple = tuple(my_list)"
   ]
  },
  {
   "cell_type": "code",
   "execution_count": 84,
   "id": "d1de84a2",
   "metadata": {},
   "outputs": [
    {
     "name": "stdout",
     "output_type": "stream",
     "text": [
      "(10, 2, 3, 4, 5)\n"
     ]
    }
   ],
   "source": [
    "print(my_tuple)"
   ]
  },
  {
   "cell_type": "code",
   "execution_count": 91,
   "id": "85eb858b",
   "metadata": {},
   "outputs": [],
   "source": [
    "my_tuple = (1,2,3,4,5)"
   ]
  },
  {
   "cell_type": "code",
   "execution_count": 86,
   "id": "e3efef36",
   "metadata": {},
   "outputs": [],
   "source": [
    "a,b,c = my_tuple"
   ]
  },
  {
   "cell_type": "code",
   "execution_count": 90,
   "id": "29e51a20",
   "metadata": {},
   "outputs": [
    {
     "name": "stdout",
     "output_type": "stream",
     "text": [
      "3\n"
     ]
    }
   ],
   "source": [
    "print(c)"
   ]
  },
  {
   "cell_type": "code",
   "execution_count": 92,
   "id": "8b56fca2",
   "metadata": {},
   "outputs": [],
   "source": [
    "a,b, *rest = my_tuple"
   ]
  },
  {
   "cell_type": "code",
   "execution_count": 93,
   "id": "4e63b24d",
   "metadata": {},
   "outputs": [
    {
     "name": "stdout",
     "output_type": "stream",
     "text": [
      "1\n",
      "2\n",
      "[3, 4, 5]\n"
     ]
    }
   ],
   "source": [
    "print(a)\n",
    "print(b)\n",
    "print(rest)"
   ]
  },
  {
   "cell_type": "code",
   "execution_count": 94,
   "id": "d5136a4c",
   "metadata": {},
   "outputs": [],
   "source": [
    "a, *middle, d, e = my_tuple"
   ]
  },
  {
   "cell_type": "code",
   "execution_count": 95,
   "id": "e3e9af5f",
   "metadata": {},
   "outputs": [
    {
     "name": "stdout",
     "output_type": "stream",
     "text": [
      "1\n"
     ]
    }
   ],
   "source": [
    "print(a)"
   ]
  },
  {
   "cell_type": "code",
   "execution_count": 96,
   "id": "3c39bd81",
   "metadata": {},
   "outputs": [
    {
     "name": "stdout",
     "output_type": "stream",
     "text": [
      "[2, 3]\n"
     ]
    }
   ],
   "source": [
    "print(middle)"
   ]
  },
  {
   "cell_type": "markdown",
   "id": "35d9e49a",
   "metadata": {},
   "source": [
    "SET"
   ]
  },
  {
   "cell_type": "code",
   "execution_count": 97,
   "id": "329d5ad0",
   "metadata": {},
   "outputs": [],
   "source": [
    "my_set = {1, 2, 3}"
   ]
  },
  {
   "cell_type": "code",
   "execution_count": 98,
   "id": "cc64b59c",
   "metadata": {},
   "outputs": [],
   "source": [
    "my_set.add(4)"
   ]
  },
  {
   "cell_type": "code",
   "execution_count": 99,
   "id": "f82ff26c",
   "metadata": {},
   "outputs": [
    {
     "name": "stdout",
     "output_type": "stream",
     "text": [
      "{1, 2, 3, 4}\n"
     ]
    }
   ],
   "source": [
    "print(my_set)"
   ]
  },
  {
   "cell_type": "code",
   "execution_count": 100,
   "id": "73bf093c",
   "metadata": {},
   "outputs": [],
   "source": [
    "my_set.remove(3)"
   ]
  },
  {
   "cell_type": "code",
   "execution_count": 101,
   "id": "d8d555cd",
   "metadata": {},
   "outputs": [
    {
     "name": "stdout",
     "output_type": "stream",
     "text": [
      "{1, 2, 4}\n"
     ]
    }
   ],
   "source": [
    "print(my_set)"
   ]
  },
  {
   "cell_type": "code",
   "execution_count": 102,
   "id": "95e216bd",
   "metadata": {},
   "outputs": [
    {
     "ename": "KeyError",
     "evalue": "3",
     "output_type": "error",
     "traceback": [
      "\u001b[1;31m---------------------------------------------------------------------------\u001b[0m",
      "\u001b[1;31mKeyError\u001b[0m                                  Traceback (most recent call last)",
      "Cell \u001b[1;32mIn[102], line 1\u001b[0m\n\u001b[1;32m----> 1\u001b[0m \u001b[43mmy_set\u001b[49m\u001b[38;5;241;43m.\u001b[39;49m\u001b[43mremove\u001b[49m\u001b[43m(\u001b[49m\u001b[38;5;241;43m3\u001b[39;49m\u001b[43m)\u001b[49m\n",
      "\u001b[1;31mKeyError\u001b[0m: 3"
     ]
    }
   ],
   "source": [
    "my_set.remove(3)"
   ]
  },
  {
   "cell_type": "code",
   "execution_count": 103,
   "id": "3e3fa7b4",
   "metadata": {},
   "outputs": [],
   "source": [
    "my_set.discard(4)"
   ]
  },
  {
   "cell_type": "code",
   "execution_count": 104,
   "id": "972f1578",
   "metadata": {},
   "outputs": [],
   "source": [
    "my_set.discard(4)"
   ]
  },
  {
   "cell_type": "code",
   "execution_count": 105,
   "id": "3c834aa3",
   "metadata": {},
   "outputs": [],
   "source": [
    "removed_item = my_set.pop()"
   ]
  },
  {
   "cell_type": "code",
   "execution_count": 106,
   "id": "ada68855",
   "metadata": {},
   "outputs": [
    {
     "name": "stdout",
     "output_type": "stream",
     "text": [
      "1\n"
     ]
    }
   ],
   "source": [
    "print(removed_item)"
   ]
  },
  {
   "cell_type": "code",
   "execution_count": 107,
   "id": "791d6817",
   "metadata": {},
   "outputs": [
    {
     "name": "stdout",
     "output_type": "stream",
     "text": [
      "None\n"
     ]
    }
   ],
   "source": [
    "print(my_set.clear())"
   ]
  },
  {
   "cell_type": "code",
   "execution_count": 108,
   "id": "e01e9d25",
   "metadata": {},
   "outputs": [
    {
     "name": "stdout",
     "output_type": "stream",
     "text": [
      "4\n"
     ]
    }
   ],
   "source": [
    "my_set = {1,2,3,4}\n",
    "print(len(my_set))"
   ]
  },
  {
   "cell_type": "code",
   "execution_count": 114,
   "id": "31f27ea2",
   "metadata": {},
   "outputs": [
    {
     "name": "stdout",
     "output_type": "stream",
     "text": [
      "{1, 2, 3, 4, 5, 6}\n",
      "{1, 2, 3, 4, 5, 6}\n",
      "{3, 4}\n",
      "{3, 4}\n",
      "{1, 2}\n",
      "{1, 2}\n",
      "{1, 2, 5, 6}\n",
      "{1, 2, 5, 6}\n"
     ]
    }
   ],
   "source": [
    "set1={1,2,3,4}\n",
    "set2={3,4,5,6}\n",
    "#Birleşim\n",
    "print(set1.union(set2))\n",
    "print(set1 | set2)\n",
    "#Kesişim\n",
    "print(set1.intersection(set2))\n",
    "print(set1 & set2)\n",
    "#Fark\n",
    "print(set1.difference(set2))\n",
    "print(set1 - set2)\n",
    "#Simetrik Fark\n",
    "print(set1.symmetric_difference(set2))\n",
    "print(set1 ^ set2)"
   ]
  },
  {
   "cell_type": "code",
   "execution_count": 115,
   "id": "70843886",
   "metadata": {},
   "outputs": [
    {
     "name": "stdout",
     "output_type": "stream",
     "text": [
      "True\n"
     ]
    }
   ],
   "source": [
    "set1 = {1,2,3}\n",
    "set2 = {1,2,3,4,5}\n",
    "\n",
    "print(set1.issubset(set2))"
   ]
  },
  {
   "cell_type": "code",
   "execution_count": 116,
   "id": "25f05ebc",
   "metadata": {},
   "outputs": [
    {
     "name": "stdout",
     "output_type": "stream",
     "text": [
      "True\n"
     ]
    }
   ],
   "source": [
    "print(set2.issuperset(set1))"
   ]
  },
  {
   "cell_type": "code",
   "execution_count": 119,
   "id": "1f952b8a",
   "metadata": {},
   "outputs": [],
   "source": [
    "set3 = {2, 8}"
   ]
  },
  {
   "cell_type": "code",
   "execution_count": 120,
   "id": "eb49bbc2",
   "metadata": {},
   "outputs": [
    {
     "name": "stdout",
     "output_type": "stream",
     "text": [
      "False\n"
     ]
    }
   ],
   "source": [
    "print(set1.isdisjoint(set3))"
   ]
  },
  {
   "cell_type": "code",
   "execution_count": null,
   "id": "b7a23342",
   "metadata": {},
   "outputs": [],
   "source": [
    "ogrenciler adında bir dictionary tanımlayın\n",
    "ogrenci_1 ve ogrenci_2\n",
    "key degerleri\n",
    "ad\n",
    "yas\n",
    "notlar - liste şeklinde tanımlanacak\n",
    "dersler - set veri tipinde tanımlansın\n",
    "gezdigi_yerler - tuple\n",
    "--\n",
    "Dictionary içinde 2 adet öğrenci bilgisi olsun\n",
    "print\n",
    "ogrencinin adi = Ahmet\n",
    "Yaşi = 17\n",
    "Aldığı dersler = .....\n",
    "Gezdiği yerler = ...."
   ]
  },
  {
   "cell_type": "code",
   "execution_count": 126,
   "id": "275b3b67",
   "metadata": {},
   "outputs": [],
   "source": [
    "ogrenciler = {\n",
    "    \"ogrenci_1\": {\n",
    "        \"ad\" : \"ali\",\n",
    "        \"yas\": 17,\n",
    "        \"notlar\" : [50,70],\n",
    "        \"dersler\": {\"ingilizce\",\"turkce\"},\n",
    "        \"gezdigi_yerler\": (\"antalya\", \"izmir\")\n",
    "    },\n",
    "    \"ogrenci_2\": {\n",
    "        \"ad\" : \"ahmet\",\n",
    "        \"yas\": 18,\n",
    "        \"notlar\" : [90,70],\n",
    "        \"dersler\": {\"fen\",\"turkce\"},\n",
    "        \"gezdigi_yerler\": (\"ankara\", \"bursa\")\n",
    "    }\n",
    "}"
   ]
  },
  {
   "cell_type": "code",
   "execution_count": 127,
   "id": "c5e3b4a1",
   "metadata": {},
   "outputs": [
    {
     "name": "stdout",
     "output_type": "stream",
     "text": [
      "{'fen', 'turkce'}\n"
     ]
    }
   ],
   "source": [
    "print(ogrenciler[\"ogrenci_2\"][\"dersler\"])"
   ]
  },
  {
   "cell_type": "code",
   "execution_count": 124,
   "id": "0747e314",
   "metadata": {},
   "outputs": [
    {
     "name": "stdout",
     "output_type": "stream",
     "text": [
      "50\n"
     ]
    }
   ],
   "source": [
    "print(ogrenciler[\"ogrenci_1\"][\"notlar\"][0])"
   ]
  },
  {
   "cell_type": "code",
   "execution_count": null,
   "id": "7ebea954",
   "metadata": {},
   "outputs": [],
   "source": []
  }
 ],
 "metadata": {
  "kernelspec": {
   "display_name": "Python 3 (ipykernel)",
   "language": "python",
   "name": "python3"
  },
  "language_info": {
   "codemirror_mode": {
    "name": "ipython",
    "version": 3
   },
   "file_extension": ".py",
   "mimetype": "text/x-python",
   "name": "python",
   "nbconvert_exporter": "python",
   "pygments_lexer": "ipython3",
   "version": "3.10.9"
  }
 },
 "nbformat": 4,
 "nbformat_minor": 5
}
