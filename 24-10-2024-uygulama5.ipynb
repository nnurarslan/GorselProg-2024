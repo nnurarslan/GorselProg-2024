{
 "cells": [
  {
   "cell_type": "code",
   "execution_count": 2,
   "id": "785271c9",
   "metadata": {},
   "outputs": [
    {
     "name": "stdout",
     "output_type": "stream",
     "text": [
      "Merhaba\n"
     ]
    }
   ],
   "source": [
    "def merhaba():\n",
    "    print(\"Merhaba\")\n",
    "\n",
    "merhaba()"
   ]
  },
  {
   "cell_type": "code",
   "execution_count": 3,
   "id": "a70ad4cf",
   "metadata": {},
   "outputs": [
    {
     "name": "stdout",
     "output_type": "stream",
     "text": [
      "7\n"
     ]
    }
   ],
   "source": [
    "def toplam(a, b):\n",
    "    return a+b\n",
    "\n",
    "sonuc = toplam(3,4)\n",
    "print(sonuc)"
   ]
  },
  {
   "cell_type": "code",
   "execution_count": 5,
   "id": "69a9cfc0",
   "metadata": {},
   "outputs": [
    {
     "name": "stdout",
     "output_type": "stream",
     "text": [
      "nur arslan\n"
     ]
    }
   ],
   "source": [
    "def my_function(fname,lname):\n",
    "    print(fname + \" \" + lname)\n",
    "my_function(\"nur\",\"arslan\")"
   ]
  },
  {
   "cell_type": "code",
   "execution_count": 6,
   "id": "3f26c552",
   "metadata": {},
   "outputs": [
    {
     "name": "stdout",
     "output_type": "stream",
     "text": [
      "dünya\n",
      "nur\n"
     ]
    }
   ],
   "source": [
    "def selam(isim=\"dünya\"):\n",
    "    print(isim)\n",
    "    \n",
    "selam()\n",
    "selam(\"nur\")"
   ]
  },
  {
   "cell_type": "code",
   "execution_count": 7,
   "id": "e94d0798",
   "metadata": {},
   "outputs": [
    {
     "name": "stdout",
     "output_type": "stream",
     "text": [
      "ayse-15-kutahya\n"
     ]
    }
   ],
   "source": [
    "def bilgiler(isim, yas, sehir):\n",
    "    print(isim + \"-\" + yas + \"-\" + sehir) \n",
    "    \n",
    "bilgiler(sehir=\"kutahya\", yas=\"15\", isim = \"ayse\")"
   ]
  },
  {
   "cell_type": "code",
   "execution_count": 8,
   "id": "3a10a8b9",
   "metadata": {},
   "outputs": [
    {
     "name": "stdout",
     "output_type": "stream",
     "text": [
      "80\n",
      "24\n"
     ]
    }
   ],
   "source": [
    "def carpma_toplama(a,b):\n",
    "    carpma = a*b\n",
    "    toplama = a+b\n",
    "    return carpma, toplama\n",
    "carpim, toplam = carpma_toplama(20, 4)\n",
    "print(carpim)\n",
    "print(toplam)"
   ]
  },
  {
   "cell_type": "code",
   "execution_count": 9,
   "id": "f2715c23",
   "metadata": {},
   "outputs": [
    {
     "name": "stdout",
     "output_type": "stream",
     "text": [
      "Fonksiyon içindeki x: 5\n",
      "Fonksiyon dışındaki x: 10\n"
     ]
    }
   ],
   "source": [
    "x=10 #global degisken\n",
    "def fonksiyon():\n",
    "    x=5 #lokal değişken\n",
    "    print(f\"Fonksiyon içindeki x: {x}\")\n",
    "    \n",
    "fonksiyon()\n",
    "print(f\"Fonksiyon dışındaki x: {x}\")"
   ]
  },
  {
   "cell_type": "code",
   "execution_count": 10,
   "id": "01007bf2",
   "metadata": {},
   "outputs": [
    {
     "name": "stdout",
     "output_type": "stream",
     "text": [
      "8\n"
     ]
    }
   ],
   "source": [
    "topla = lambda x, y: x+y\n",
    "sonuc = topla(3,5)\n",
    "print(sonuc)"
   ]
  },
  {
   "cell_type": "code",
   "execution_count": 11,
   "id": "b8e47fb0",
   "metadata": {},
   "outputs": [
    {
     "name": "stdout",
     "output_type": "stream",
     "text": [
      "10\n"
     ]
    }
   ],
   "source": [
    "def toplam(*args): #arbitrary arguments\n",
    "    return sum(args)\n",
    "\n",
    "print(toplam(1,2,3,4))"
   ]
  },
  {
   "cell_type": "code",
   "execution_count": 12,
   "id": "2344e4f6",
   "metadata": {},
   "outputs": [
    {
     "name": "stdout",
     "output_type": "stream",
     "text": [
      "isim : Mehmet\n",
      "yas : 29\n",
      "sehir : istanbul\n"
     ]
    }
   ],
   "source": [
    "def kisi_bilgileri(**kwargs): # Keyword arguments\n",
    "    for key,value in kwargs.items():\n",
    "        print(f\"{key} : {value}\")\n",
    "        \n",
    "kisi_bilgileri(isim=\"Mehmet\",yas=29, sehir=\"istanbul\")"
   ]
  },
  {
   "cell_type": "raw",
   "id": "8c3984f8",
   "metadata": {},
   "source": [
    "Dikdörtgenin çevresi ve alanını döndüren fonksiyonu yazınız."
   ]
  },
  {
   "cell_type": "code",
   "execution_count": 13,
   "id": "211ef4a8",
   "metadata": {},
   "outputs": [
    {
     "name": "stdout",
     "output_type": "stream",
     "text": [
      "14\n",
      "10\n"
     ]
    }
   ],
   "source": [
    "def dikdortgen_cevre_alan(uzun_kenar, kisa_kenar):\n",
    "    alan=uzun_kenar*kisa_kenar\n",
    "    cevre=2 * (uzun_kenar + kisa_kenar)\n",
    "    return cevre, alan\n",
    "uzun_kenar=5\n",
    "kisa_kenar=2\n",
    "cevre,alan = dikdortgen_cevre_alan(5,2)\n",
    "print(cevre)\n",
    "print(alan)"
   ]
  },
  {
   "cell_type": "raw",
   "id": "4cb9aee4",
   "metadata": {},
   "source": [
    "Fonksiyon parametre olarak bir liste alsın ve sadece çift sayıları bularak onların karesini hesaplayan bir liste döndürsün"
   ]
  },
  {
   "cell_type": "code",
   "execution_count": 14,
   "id": "dc3cd997",
   "metadata": {},
   "outputs": [
    {
     "name": "stdout",
     "output_type": "stream",
     "text": [
      "1 tek sayıdır, karesi hesaplanmadı.\n",
      "7 tek sayıdır, karesi hesaplanmadı.\n",
      "15 tek sayıdır, karesi hesaplanmadı.\n",
      "Çift sayıların kareleri: [16, 100, 400, 484]\n"
     ]
    }
   ],
   "source": [
    "def cift_sayilari_bul_ve_karelerini_hesapla(sayilar):\n",
    "    cift_sayilarin_kareleri = []\n",
    "\n",
    "    # Her sayı için kontrol yap\n",
    "    for sayi in sayilar:\n",
    "        if sayi % 2 == 0:  # Sayı çift mi?\n",
    "            cift_sayilarin_kareleri.append(sayi ** 2)  # Karesini listeye ekle\n",
    "        else:\n",
    "            print(f\"{sayi} tek sayıdır, karesi hesaplanmadı.\")\n",
    "    \n",
    "    return cift_sayilarin_kareleri\n",
    "\n",
    "# Test edelim\n",
    "sayi_listesi = [1, 4, 7, 10, 15, 20, 22]\n",
    "cift_kareler = cift_sayilari_bul_ve_karelerini_hesapla(sayi_listesi)\n",
    "\n",
    "print(\"Çift sayıların kareleri:\", cift_kareler)\n"
   ]
  },
  {
   "cell_type": "raw",
   "id": "46906e82",
   "metadata": {},
   "source": [
    "Hangi geometrik şeklin alanını hesaplamak istersiniz?\n",
    "1. Dikdörtgen\n",
    "2. Kare\n",
    "3. Daire\n",
    "Seçiminizi yapın (1,2,3) : 1\n",
    "Dikdörtgenin kenar uzunluklarını giriniz:\n",
    "Uzun kenar: 5\n",
    "Kısa kenar: 3\n",
    "Dikdörtgenin alanı: 15.00\n",
    "Dikdörgenin çevresi : 16.00"
   ]
  },
  {
   "cell_type": "code",
   "execution_count": 15,
   "id": "560d14aa",
   "metadata": {},
   "outputs": [
    {
     "name": "stdout",
     "output_type": "stream",
     "text": [
      "Hangi geometrik şeklin alanını ve çevresini hesaplamak istersiniz?\n",
      "1. Dikdörtgen\n",
      "2. Daire\n",
      "3. Kare\n",
      "Seçiminizi yapın (1/2/3): 2\n",
      "Dairenin yarıçapını giriniz: 5\n",
      "Dairenin alanı: 78.54\n",
      "Dairenin çevresi: 31.42\n"
     ]
    }
   ],
   "source": [
    "import math\n",
    "\n",
    "def dikdortgen_alani(uzun_kenar, kisakenar):\n",
    "    \"\"\"Dikdörtgenin alanını hesaplar.\"\"\"\n",
    "    return uzun_kenar * kisakenar\n",
    "\n",
    "def dikdortgen_cevresi(uzun_kenar, kisakenar):\n",
    "    \"\"\"Dikdörtgenin çevresini hesaplar.\"\"\"\n",
    "    return 2 * (uzun_kenar + kisakenar)\n",
    "\n",
    "def dairenin_alani(r):\n",
    "    \"\"\"Dairenin alanını hesaplar.\"\"\"\n",
    "    return math.pi * (r ** 2)\n",
    "\n",
    "def dairenin_cevresi(r):\n",
    "    \"\"\"Dairenin çevresini hesaplar.\"\"\"\n",
    "    return 2 * math.pi * r\n",
    "\n",
    "def kare_alani(kenar):\n",
    "    \"\"\"Karenin alanını hesaplar.\"\"\"\n",
    "    return kenar ** 2\n",
    "\n",
    "def kare_cevresi(kenar):\n",
    "    \"\"\"Karenin çevresini hesaplar.\"\"\"\n",
    "    return 4 * kenar\n",
    "\n",
    "def main():\n",
    "    print(\"Hangi geometrik şeklin alanını ve çevresini hesaplamak istersiniz?\")\n",
    "    print(\"1. Dikdörtgen\")\n",
    "    print(\"2. Daire\")\n",
    "    print(\"3. Kare\")\n",
    "    \n",
    "    secim = int(input(\"Seçiminizi yapın (1/2/3): \"))\n",
    "    \n",
    "    if secim == 1:\n",
    "        print(\"Dikdörtgenin kenar uzunluklarını giriniz:\")\n",
    "        uzun_kenar = float(input(\"Uzun kenar: \"))\n",
    "        kisakenar = float(input(\"Kısa kenar: \"))\n",
    "        \n",
    "        alan = dikdortgen_alani(uzun_kenar, kisakenar)\n",
    "        cevre = dikdortgen_cevresi(uzun_kenar, kisakenar)\n",
    "        \n",
    "        print(f\"Dikdörtgenin alanı: {alan:.2f}\")\n",
    "        print(f\"Dikdörtgenin çevresi: {cevre:.2f}\")\n",
    "\n",
    "    elif secim == 2:\n",
    "        r = float(input(\"Dairenin yarıçapını giriniz: \"))\n",
    "        \n",
    "        alan = dairenin_alani(r)\n",
    "        cevre = dairenin_cevresi(r)\n",
    "        \n",
    "        print(f\"Dairenin alanı: {alan:.2f}\")\n",
    "        print(f\"Dairenin çevresi: {cevre:.2f}\")\n",
    "\n",
    "    elif secim == 3:\n",
    "        kenar = float(input(\"Karenin kenar uzunluğunu giriniz: \"))\n",
    "        \n",
    "        alan = kare_alani(kenar)\n",
    "        cevre = kare_cevresi(kenar)\n",
    "        \n",
    "        print(f\"Karenin alanı: {alan:.2f}\")\n",
    "        print(f\"Karenin çevresi: {cevre:.2f}\")\n",
    "\n",
    "    else:\n",
    "        print(\"Geçersiz seçim! Lütfen 1, 2 veya 3 girin.\")\n",
    "\n",
    "# Programı başlat\n",
    "if __name__ == \"__main__\":\n",
    "    main()\n"
   ]
  },
  {
   "cell_type": "code",
   "execution_count": null,
   "id": "464de317",
   "metadata": {},
   "outputs": [],
   "source": []
  }
 ],
 "metadata": {
  "kernelspec": {
   "display_name": "Python 3 (ipykernel)",
   "language": "python",
   "name": "python3"
  },
  "language_info": {
   "codemirror_mode": {
    "name": "ipython",
    "version": 3
   },
   "file_extension": ".py",
   "mimetype": "text/x-python",
   "name": "python",
   "nbconvert_exporter": "python",
   "pygments_lexer": "ipython3",
   "version": "3.9.16"
  }
 },
 "nbformat": 4,
 "nbformat_minor": 5
}
