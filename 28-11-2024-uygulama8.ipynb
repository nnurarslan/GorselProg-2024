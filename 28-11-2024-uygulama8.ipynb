{
 "cells": [
  {
   "cell_type": "code",
   "execution_count": null,
   "id": "a20e2d7a",
   "metadata": {},
   "outputs": [],
   "source": [
    "from pymongo import MongoClient"
   ]
  },
  {
   "cell_type": "code",
   "execution_count": null,
   "id": "2e74f483",
   "metadata": {},
   "outputs": [],
   "source": [
    "client = MongoClient(\"mongodb://localhost:27017\")"
   ]
  },
  {
   "cell_type": "code",
   "execution_count": null,
   "id": "aab4c7d5",
   "metadata": {},
   "outputs": [],
   "source": [
    "db = client[\"universite\"]"
   ]
  },
  {
   "cell_type": "code",
   "execution_count": null,
   "id": "43eaf2a9",
   "metadata": {},
   "outputs": [],
   "source": [
    "ogrenciler = db[\"ogrenciler\"]\n",
    "ogretmenler = db[\"ogretmenler\"]\n",
    "dersler = db[\"dersler\"]"
   ]
  },
  {
   "cell_type": "code",
   "execution_count": null,
   "id": "f5dd4d20",
   "metadata": {},
   "outputs": [],
   "source": [
    "ogrenciler_veri = [\n",
    "    {\"_id\":1, \"ad\":\"Ahmet\", \"yas\":20, \"bolum\":\"yazilim muh\", \"gno\":3.0},\n",
    "    {\"_id\":2, \"ad\":\"Ali\", \"yas\":18, \"bolum\":\"elektrik muh\", \"gno\":2.0},\n",
    "    {\"_id\":3, \"ad\":\"Ayse\", \"yas\":22, \"bolum\":\"bilgisayar muh\", \"gno\":2.5},\n",
    "    {\"_id\":4, \"ad\":\"Fatma\", \"yas\":22, \"bolum\":\"yazilim muh\", \"gno\":3.5}\n",
    "]"
   ]
  },
  {
   "cell_type": "code",
   "execution_count": null,
   "id": "b7d61e37",
   "metadata": {},
   "outputs": [],
   "source": [
    "ogrenciler.insert_many(ogrenciler_veri)"
   ]
  },
  {
   "cell_type": "code",
   "execution_count": null,
   "id": "8a158ff0",
   "metadata": {},
   "outputs": [],
   "source": [
    "ogretmenler_veri = [\n",
    "    {\"_id\":10, \"ad\":\"Murat\", \"bolum\":\"yazilim muh\", \"deneyim_yili\":5},\n",
    "    {\"_id\":20, \"ad\":\"Zeynep\",\"bolum\":\"elektrik muh\", \"deneyim_yili\":10},\n",
    "    {\"_id\":30, \"ad\":\"Elif\", \"bolum\":\"bilgisayar muh\", \"deneyim_yili\":15},\n",
    "    {\"_id\":40, \"ad\":\"Fatma\", \"bolum\":\"yazilim muh\",\"deneyim_yili\":2}\n",
    "]"
   ]
  },
  {
   "cell_type": "code",
   "execution_count": null,
   "id": "195d9be2",
   "metadata": {},
   "outputs": [],
   "source": [
    "ogretmenler.insert_many(ogretmenler_veri)"
   ]
  },
  {
   "cell_type": "code",
   "execution_count": null,
   "id": "925d6478",
   "metadata": {},
   "outputs": [],
   "source": [
    "dersler_veri = [\n",
    "    {\"_id\": 1001, \"ders_adi\": \"Veritabani\", \"kredi\":4, \"ogretmen\":\"murat\"},\n",
    "     {\"_id\": 1002, \"ders_adi\": \"elektrik\", \"kredi\":4, \"ogretmen\":\"ali\"},\n",
    "     {\"_id\": 1003, \"ders_adi\": \"yapay zeka\", \"kredi\":5, \"ogretmen\":\"elif\"},\n",
    "]"
   ]
  },
  {
   "cell_type": "code",
   "execution_count": null,
   "id": "b586c154",
   "metadata": {},
   "outputs": [],
   "source": [
    "dersler.insert_many(dersler_veri)"
   ]
  },
  {
   "cell_type": "code",
   "execution_count": null,
   "id": "b4257b0b",
   "metadata": {},
   "outputs": [],
   "source": [
    "print(\"Ogrenciler\")\n",
    "for ogrenci in ogrenciler.find():\n",
    "    print(ogrenci)"
   ]
  },
  {
   "cell_type": "code",
   "execution_count": null,
   "id": "4b58bac4",
   "metadata": {},
   "outputs": [],
   "source": [
    "print(\"Ogretmenler\")\n",
    "for ogretmen in ogretmenler.find():\n",
    "    print(ogretmen)"
   ]
  },
  {
   "cell_type": "code",
   "execution_count": null,
   "id": "8d00d761",
   "metadata": {},
   "outputs": [],
   "source": [
    "print(\"Dersler\")\n",
    "for ders in dersler.find():\n",
    "    print(ders)"
   ]
  },
  {
   "cell_type": "code",
   "execution_count": null,
   "id": "cc0d8d9b",
   "metadata": {},
   "outputs": [],
   "source": [
    "for ogrenci in ogrenciler.find({\"ad\":{\"$regex\":\"^A\"}}):\n",
    "    print(ogrenci)"
   ]
  },
  {
   "cell_type": "code",
   "execution_count": null,
   "id": "559afe59",
   "metadata": {},
   "outputs": [],
   "source": [
    "for ogrenci in ogrenciler.find().sort(\"gno\",-1).limit(3):\n",
    "    print(ogrenci)"
   ]
  },
  {
   "cell_type": "code",
   "execution_count": null,
   "id": "38722344",
   "metadata": {},
   "outputs": [],
   "source": [
    "for ders in dersler.find({\"ders_adi\":{\"$regex\":\"elekt\"}}):\n",
    "    print(ders)"
   ]
  },
  {
   "cell_type": "code",
   "execution_count": null,
   "id": "2cad2033",
   "metadata": {},
   "outputs": [],
   "source": [
    "for ders in ogretmenler.find({\"deneyim_yili\":{\"$gt\":5}}):\n",
    "    print(ders)"
   ]
  },
  {
   "cell_type": "code",
   "execution_count": null,
   "id": "07713948",
   "metadata": {},
   "outputs": [],
   "source": [
    "for ogretmen in ogretmenler.find().sort(\"bolum\",-1):\n",
    "    print(ogretmen)"
   ]
  },
  {
   "cell_type": "code",
   "execution_count": null,
   "id": "ecf8528f",
   "metadata": {},
   "outputs": [],
   "source": [
    "for ogrenci in ogrenciler.find({\"gno\":{\"$gte\":3.0,\"$lte\":4.0}}).sort(\"yas\",1):\n",
    "    print(ogrenci)"
   ]
  },
  {
   "cell_type": "code",
   "execution_count": null,
   "id": "a4f8bafe",
   "metadata": {},
   "outputs": [],
   "source": [
    "ogrenciler.update_one({\"ad\":\"Ahmet\"},{\"$set\":{\"gno\":3.5}})"
   ]
  },
  {
   "cell_type": "code",
   "execution_count": null,
   "id": "891c2341",
   "metadata": {},
   "outputs": [],
   "source": [
    "for ogrenci in ogrenciler.find():\n",
    "    print(ogrenci)"
   ]
  },
  {
   "cell_type": "code",
   "execution_count": null,
   "id": "215f81b6",
   "metadata": {},
   "outputs": [],
   "source": [
    "ogrenciler.update_many({\"bolum\":\"yazilim muh\"}, {\"$inc\": {\"yas\":1}})"
   ]
  },
  {
   "cell_type": "code",
   "execution_count": null,
   "id": "3cec7a57",
   "metadata": {},
   "outputs": [],
   "source": [
    "for ogrenci in ogrenciler.find():\n",
    "    print(ogrenci)"
   ]
  },
  {
   "cell_type": "code",
   "execution_count": null,
   "id": "ddbbdf3c",
   "metadata": {},
   "outputs": [],
   "source": [
    "dersler.update_one(\n",
    "    {\"ders_adi\":\"yapay zeka\"},\n",
    "    {\"$set\":{\"kredi\":6,\"zorunlu_ders\":True}}\n",
    ")"
   ]
  },
  {
   "cell_type": "code",
   "execution_count": null,
   "id": "9c9ce225",
   "metadata": {},
   "outputs": [],
   "source": [
    "for ders in dersler.find():\n",
    "    print(ders)"
   ]
  },
  {
   "cell_type": "code",
   "execution_count": null,
   "id": "d4cd962f",
   "metadata": {},
   "outputs": [],
   "source": [
    "ogrenciler.delete_one({\"ad\":\"Ayse\"})"
   ]
  },
  {
   "cell_type": "code",
   "execution_count": null,
   "id": "82e2a017",
   "metadata": {},
   "outputs": [],
   "source": [
    "for ogrenci in ogrenciler.find():\n",
    "    print(ogrenci)"
   ]
  },
  {
   "cell_type": "code",
   "execution_count": null,
   "id": "40fa70a1",
   "metadata": {},
   "outputs": [],
   "source": [
    "ogrenciler.delete_many({\"gno\":{\"$lt\":2.5}})"
   ]
  },
  {
   "cell_type": "code",
   "execution_count": null,
   "id": "6053daac",
   "metadata": {},
   "outputs": [],
   "source": [
    "for ogrenci in ogrenciler.find():\n",
    "    print(ogrenci)"
   ]
  },
  {
   "cell_type": "code",
   "execution_count": null,
   "id": "cf9914e2",
   "metadata": {},
   "outputs": [],
   "source": [
    "client.drop_database(\"universite\")"
   ]
  },
  {
   "cell_type": "code",
   "execution_count": 1,
   "id": "5b8524f3",
   "metadata": {},
   "outputs": [
    {
     "name": "stdout",
     "output_type": "stream",
     "text": [
      "Requirement already satisfied: prettytable in c:\\users\\90505\\anaconda3\\lib\\site-packages (3.12.0)\n",
      "Requirement already satisfied: wcwidth in c:\\users\\90505\\anaconda3\\lib\\site-packages (from prettytable) (0.2.5)\n",
      "Note: you may need to restart the kernel to use updated packages.\n"
     ]
    }
   ],
   "source": [
    "pip install prettytable"
   ]
  },
  {
   "cell_type": "code",
   "execution_count": 2,
   "id": "11521cd6",
   "metadata": {},
   "outputs": [],
   "source": [
    "from pymongo import MongoClient\n",
    "from prettytable import PrettyTable\n",
    "import datetime"
   ]
  },
  {
   "cell_type": "code",
   "execution_count": 15,
   "id": "ad17bcb4",
   "metadata": {},
   "outputs": [],
   "source": [
    "import datetime\n",
    "from bson.objectid import ObjectId"
   ]
  },
  {
   "cell_type": "code",
   "execution_count": 4,
   "id": "24c6c8c4",
   "metadata": {},
   "outputs": [],
   "source": [
    "client=MongoClient(\"mongodb://localhost:27017\")\n",
    "db=client[\"task_management\"]\n",
    "task_collection = db[\"tasks\"]"
   ]
  },
  {
   "cell_type": "code",
   "execution_count": 5,
   "id": "7c88d3a6",
   "metadata": {},
   "outputs": [],
   "source": [
    "def add_task(title, description, due_date):\n",
    "    task = {\n",
    "        \"title\":title,\n",
    "        \"description\":description,\n",
    "        \"due_date\":due_date,\n",
    "        \"created_at\":datetime.datetime.now(),\n",
    "        \"status\":\"Pending\"\n",
    "    }\n",
    "    result = task_collection.insert_one(task)\n",
    "    print(result)\n",
    "    print(f\"Yeni görev eklendi : ID {result.inserted_id}\")"
   ]
  },
  {
   "cell_type": "code",
   "execution_count": 11,
   "id": "fb662b94",
   "metadata": {},
   "outputs": [],
   "source": [
    "def list_tasks():\n",
    "    tasks = task_collection.find()\n",
    "    table = PrettyTable([\"ID\",\"Başlık\",\"Açıklama\",\"Son Tarih\",\"Durum\"])\n",
    "    for task in tasks:\n",
    "        table.add_row([\n",
    "            str(task[\"_id\"]),\n",
    "            task[\"title\"],\n",
    "            task[\"description\"],\n",
    "            task[\"due_date\"],\n",
    "            task[\"status\"]\n",
    "        ])\n",
    "    print(table)"
   ]
  },
  {
   "cell_type": "code",
   "execution_count": 13,
   "id": "6205db1d",
   "metadata": {},
   "outputs": [],
   "source": [
    "def update_task(task_id,updates):\n",
    "    result = task_collection.update_one(task_id,{\"$set\":updates})\n",
    "    if result.matched_count>0:\n",
    "        print(\"güncellendi\")\n",
    "    else:\n",
    "        print(\"Görev bulunamadı\")"
   ]
  },
  {
   "cell_type": "code",
   "execution_count": 17,
   "id": "442de971",
   "metadata": {},
   "outputs": [],
   "source": [
    "def delete_task(task_id):\n",
    "    result = task_collection.delete_one(task_id)"
   ]
  },
  {
   "cell_type": "code",
   "execution_count": 22,
   "id": "9861c888",
   "metadata": {},
   "outputs": [],
   "source": [
    "def list_tasks_by_date(date_filter, comparison):\n",
    "    if comparison == \"before\":\n",
    "        tasks = task_collection.find({\"due_date\": {\"$lt\":date_filter}})\n",
    "    for task in tasks:\n",
    "        print(task['title'])\n",
    "        print(task['due_date'])"
   ]
  },
  {
   "cell_type": "code",
   "execution_count": 23,
   "id": "f3faaebd",
   "metadata": {},
   "outputs": [
    {
     "name": "stdout",
     "output_type": "stream",
     "text": [
      "--Görev Yönetim Sistemi---\n",
      "1. Görev Ekle\n",
      "2. Görev Listele\n",
      "3. Görev Güncelle\n",
      "4. Görev Sil\n",
      "5. Tarihe Göre Görev Listele\n",
      "6. Çıkış\n",
      "Seçiminizi yapınız2\n",
      "+--------------------------+-----------+----------+------------+---------+\n",
      "|            ID            |   Başlık  | Açıklama | Son Tarih  |  Durum  |\n",
      "+--------------------------+-----------+----------+------------+---------+\n",
      "| 674857ebfb91681833538159 | alısveris | haftalik | 2024-12-11 | Pending |\n",
      "| 674857fafb9168183353815a |   ddsfa   |   safa   | 2024-11-30 | Pending |\n",
      "+--------------------------+-----------+----------+------------+---------+\n",
      "--Görev Yönetim Sistemi---\n",
      "1. Görev Ekle\n",
      "2. Görev Listele\n",
      "3. Görev Güncelle\n",
      "4. Görev Sil\n",
      "5. Tarihe Göre Görev Listele\n",
      "6. Çıkış\n",
      "Seçiminizi yapınız5\n",
      "Tarih (YYYY-MM-DD)2024-12-01\n",
      "before ya da after girinbefore\n",
      "ddsfa\n",
      "2024-11-30\n",
      "--Görev Yönetim Sistemi---\n",
      "1. Görev Ekle\n",
      "2. Görev Listele\n",
      "3. Görev Güncelle\n",
      "4. Görev Sil\n",
      "5. Tarihe Göre Görev Listele\n",
      "6. Çıkış\n"
     ]
    },
    {
     "ename": "KeyboardInterrupt",
     "evalue": "Interrupted by user",
     "output_type": "error",
     "traceback": [
      "\u001b[1;31m---------------------------------------------------------------------------\u001b[0m",
      "\u001b[1;31mKeyboardInterrupt\u001b[0m                         Traceback (most recent call last)",
      "Cell \u001b[1;32mIn[23], line 38\u001b[0m\n\u001b[0;32m     35\u001b[0m             \u001b[38;5;28mprint\u001b[39m(\u001b[38;5;124m\"\u001b[39m\u001b[38;5;124mGeçersiz seçim\u001b[39m\u001b[38;5;124m\"\u001b[39m)\n\u001b[0;32m     37\u001b[0m \u001b[38;5;28;01mif\u001b[39;00m \u001b[38;5;18m__name__\u001b[39m \u001b[38;5;241m==\u001b[39m \u001b[38;5;124m\"\u001b[39m\u001b[38;5;124m__main__\u001b[39m\u001b[38;5;124m\"\u001b[39m:\n\u001b[1;32m---> 38\u001b[0m     \u001b[43mmain\u001b[49m\u001b[43m(\u001b[49m\u001b[43m)\u001b[49m\n",
      "Cell \u001b[1;32mIn[23], line 10\u001b[0m, in \u001b[0;36mmain\u001b[1;34m()\u001b[0m\n\u001b[0;32m      8\u001b[0m \u001b[38;5;28mprint\u001b[39m(\u001b[38;5;124m\"\u001b[39m\u001b[38;5;124m5. Tarihe Göre Görev Listele\u001b[39m\u001b[38;5;124m\"\u001b[39m)\n\u001b[0;32m      9\u001b[0m \u001b[38;5;28mprint\u001b[39m(\u001b[38;5;124m\"\u001b[39m\u001b[38;5;124m6. Çıkış\u001b[39m\u001b[38;5;124m\"\u001b[39m)\n\u001b[1;32m---> 10\u001b[0m choice \u001b[38;5;241m=\u001b[39m \u001b[38;5;28;43minput\u001b[39;49m\u001b[43m(\u001b[49m\u001b[38;5;124;43m\"\u001b[39;49m\u001b[38;5;124;43mSeçiminizi yapınız\u001b[39;49m\u001b[38;5;124;43m\"\u001b[39;49m\u001b[43m)\u001b[49m\n\u001b[0;32m     12\u001b[0m \u001b[38;5;28;01mif\u001b[39;00m choice \u001b[38;5;241m==\u001b[39m \u001b[38;5;124m\"\u001b[39m\u001b[38;5;124m1\u001b[39m\u001b[38;5;124m\"\u001b[39m:\n\u001b[0;32m     13\u001b[0m     title \u001b[38;5;241m=\u001b[39m \u001b[38;5;28minput\u001b[39m(\u001b[38;5;124m\"\u001b[39m\u001b[38;5;124mGörev başlığı: \u001b[39m\u001b[38;5;124m\"\u001b[39m)\n",
      "File \u001b[1;32m~\\anaconda3\\lib\\site-packages\\ipykernel\\kernelbase.py:1175\u001b[0m, in \u001b[0;36mKernel.raw_input\u001b[1;34m(self, prompt)\u001b[0m\n\u001b[0;32m   1171\u001b[0m \u001b[38;5;28;01mif\u001b[39;00m \u001b[38;5;129;01mnot\u001b[39;00m \u001b[38;5;28mself\u001b[39m\u001b[38;5;241m.\u001b[39m_allow_stdin:\n\u001b[0;32m   1172\u001b[0m     \u001b[38;5;28;01mraise\u001b[39;00m StdinNotImplementedError(\n\u001b[0;32m   1173\u001b[0m         \u001b[38;5;124m\"\u001b[39m\u001b[38;5;124mraw_input was called, but this frontend does not support input requests.\u001b[39m\u001b[38;5;124m\"\u001b[39m\n\u001b[0;32m   1174\u001b[0m     )\n\u001b[1;32m-> 1175\u001b[0m \u001b[38;5;28;01mreturn\u001b[39;00m \u001b[38;5;28;43mself\u001b[39;49m\u001b[38;5;241;43m.\u001b[39;49m\u001b[43m_input_request\u001b[49m\u001b[43m(\u001b[49m\n\u001b[0;32m   1176\u001b[0m \u001b[43m    \u001b[49m\u001b[38;5;28;43mstr\u001b[39;49m\u001b[43m(\u001b[49m\u001b[43mprompt\u001b[49m\u001b[43m)\u001b[49m\u001b[43m,\u001b[49m\n\u001b[0;32m   1177\u001b[0m \u001b[43m    \u001b[49m\u001b[38;5;28;43mself\u001b[39;49m\u001b[38;5;241;43m.\u001b[39;49m\u001b[43m_parent_ident\u001b[49m\u001b[43m[\u001b[49m\u001b[38;5;124;43m\"\u001b[39;49m\u001b[38;5;124;43mshell\u001b[39;49m\u001b[38;5;124;43m\"\u001b[39;49m\u001b[43m]\u001b[49m\u001b[43m,\u001b[49m\n\u001b[0;32m   1178\u001b[0m \u001b[43m    \u001b[49m\u001b[38;5;28;43mself\u001b[39;49m\u001b[38;5;241;43m.\u001b[39;49m\u001b[43mget_parent\u001b[49m\u001b[43m(\u001b[49m\u001b[38;5;124;43m\"\u001b[39;49m\u001b[38;5;124;43mshell\u001b[39;49m\u001b[38;5;124;43m\"\u001b[39;49m\u001b[43m)\u001b[49m\u001b[43m,\u001b[49m\n\u001b[0;32m   1179\u001b[0m \u001b[43m    \u001b[49m\u001b[43mpassword\u001b[49m\u001b[38;5;241;43m=\u001b[39;49m\u001b[38;5;28;43;01mFalse\u001b[39;49;00m\u001b[43m,\u001b[49m\n\u001b[0;32m   1180\u001b[0m \u001b[43m\u001b[49m\u001b[43m)\u001b[49m\n",
      "File \u001b[1;32m~\\anaconda3\\lib\\site-packages\\ipykernel\\kernelbase.py:1217\u001b[0m, in \u001b[0;36mKernel._input_request\u001b[1;34m(self, prompt, ident, parent, password)\u001b[0m\n\u001b[0;32m   1214\u001b[0m             \u001b[38;5;28;01mbreak\u001b[39;00m\n\u001b[0;32m   1215\u001b[0m \u001b[38;5;28;01mexcept\u001b[39;00m \u001b[38;5;167;01mKeyboardInterrupt\u001b[39;00m:\n\u001b[0;32m   1216\u001b[0m     \u001b[38;5;66;03m# re-raise KeyboardInterrupt, to truncate traceback\u001b[39;00m\n\u001b[1;32m-> 1217\u001b[0m     \u001b[38;5;28;01mraise\u001b[39;00m \u001b[38;5;167;01mKeyboardInterrupt\u001b[39;00m(\u001b[38;5;124m\"\u001b[39m\u001b[38;5;124mInterrupted by user\u001b[39m\u001b[38;5;124m\"\u001b[39m) \u001b[38;5;28;01mfrom\u001b[39;00m \u001b[38;5;28mNone\u001b[39m\n\u001b[0;32m   1218\u001b[0m \u001b[38;5;28;01mexcept\u001b[39;00m \u001b[38;5;167;01mException\u001b[39;00m:\n\u001b[0;32m   1219\u001b[0m     \u001b[38;5;28mself\u001b[39m\u001b[38;5;241m.\u001b[39mlog\u001b[38;5;241m.\u001b[39mwarning(\u001b[38;5;124m\"\u001b[39m\u001b[38;5;124mInvalid Message:\u001b[39m\u001b[38;5;124m\"\u001b[39m, exc_info\u001b[38;5;241m=\u001b[39m\u001b[38;5;28;01mTrue\u001b[39;00m)\n",
      "\u001b[1;31mKeyboardInterrupt\u001b[0m: Interrupted by user"
     ]
    }
   ],
   "source": [
    "\n",
    "def main():\n",
    "    while True:\n",
    "        print(\"--Görev Yönetim Sistemi---\")\n",
    "        print(\"1. Görev Ekle\")\n",
    "        print(\"2. Görev Listele\")\n",
    "        print(\"3. Görev Güncelle\")\n",
    "        print(\"4. Görev Sil\")\n",
    "        print(\"5. Tarihe Göre Görev Listele\")\n",
    "        print(\"6. Çıkış\")\n",
    "        choice = input(\"Seçiminizi yapınız\")\n",
    "        \n",
    "        if choice == \"1\":\n",
    "            title = input(\"Görev başlığı: \")\n",
    "            description = input(\"Görev açıklaması\")\n",
    "            due_date = input(\"Son tarih (YYYY-MM-DD): \")\n",
    "            add_task(title,description,due_date)\n",
    "        elif choice == \"2\":\n",
    "            list_tasks()\n",
    "        elif choice == \"3\":\n",
    "            task_id = input(\"Güncellenecek görev ID :\")\n",
    "            field = input(\"Hangi alani güncellemek istersiniz? (title, description,due_date,status)\")\n",
    "            value = input(f\"Yeni {field}\")\n",
    "            update_task({\"_id\": ObjectId(task_id)}, {field:value})\n",
    "        elif choice == \"4\":\n",
    "            task_id = input(\"Silinecek görev ID :\")\n",
    "            delete_task({\"_id\": ObjectId(task_id)})\n",
    "        elif choice == \"5\":\n",
    "            date_filter=input(\"Tarih (YYYY-MM-DD)\")\n",
    "            comparison = input(\"before ya da after girin\")\n",
    "            list_tasks_by_date(date_filter,comparison)\n",
    "        elif choice == \"6\":\n",
    "            print(\"Çıkış yapılıyor...\")\n",
    "            break\n",
    "        else:\n",
    "            print(\"Geçersiz seçim\")\n",
    "\n",
    "if __name__ == \"__main__\":\n",
    "    main()"
   ]
  },
  {
   "cell_type": "code",
   "execution_count": null,
   "id": "70652245",
   "metadata": {},
   "outputs": [],
   "source": []
  }
 ],
 "metadata": {
  "kernelspec": {
   "display_name": "Python 3 (ipykernel)",
   "language": "python",
   "name": "python3"
  },
  "language_info": {
   "codemirror_mode": {
    "name": "ipython",
    "version": 3
   },
   "file_extension": ".py",
   "mimetype": "text/x-python",
   "name": "python",
   "nbconvert_exporter": "python",
   "pygments_lexer": "ipython3",
   "version": "3.10.9"
  }
 },
 "nbformat": 4,
 "nbformat_minor": 5
}
