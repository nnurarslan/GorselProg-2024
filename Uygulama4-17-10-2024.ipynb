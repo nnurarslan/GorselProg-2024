{
 "cells": [
  {
   "cell_type": "raw",
   "id": "d9ec002e",
   "metadata": {},
   "source": [
    "match-case yapısı"
   ]
  },
  {
   "cell_type": "code",
   "execution_count": 28,
   "id": "97df2029",
   "metadata": {},
   "outputs": [
    {
     "ename": "SyntaxError",
     "evalue": "invalid syntax (4009312046.py, line 2)",
     "output_type": "error",
     "traceback": [
      "\u001b[1;36m  Cell \u001b[1;32mIn[28], line 2\u001b[1;36m\u001b[0m\n\u001b[1;33m    match gun:\u001b[0m\n\u001b[1;37m          ^\u001b[0m\n\u001b[1;31mSyntaxError\u001b[0m\u001b[1;31m:\u001b[0m invalid syntax\n"
     ]
    }
   ],
   "source": [
    "gun = input(\"Bir gun ismi giriniz:\")\n",
    "match gun:\n",
    "    case \"Pazartesi\":\n",
    "        print(\"Haftanin ilk gunu\")\n",
    "    case \"Salı\":\n",
    "        print(\"Haftanın ikinci gunu\")\n",
    "    case \"Çarşamba\":\n",
    "        print(\"Haftanın ortası\")\n",
    "    case \"Perşembe\":\n",
    "        print(\"Hafta sonu yaklaşıyor\")\n",
    "    case \"Cuma\":\n",
    "        print(\"Son iş günü\")\n",
    "    case \"Cumartesi\" or \"Pazar\":\n",
    "        print(\"HAFTA SONU\")\n",
    "    case _:\n",
    "        print(\"Geçersiz gün ismi\")\n",
    "        "
   ]
  },
  {
   "cell_type": "raw",
   "id": "c05c0eb8",
   "metadata": {},
   "source": [
    "while döngüsü"
   ]
  },
  {
   "cell_type": "code",
   "execution_count": 3,
   "id": "8ab68ed5",
   "metadata": {},
   "outputs": [
    {
     "name": "stdout",
     "output_type": "stream",
     "text": [
      "0\n",
      "1\n",
      "2\n",
      "3\n",
      "4\n"
     ]
    }
   ],
   "source": [
    "x=0\n",
    "while x<5:\n",
    "    print(x)\n",
    "    x+=1"
   ]
  },
  {
   "cell_type": "code",
   "execution_count": 4,
   "id": "07878d55",
   "metadata": {},
   "outputs": [
    {
     "name": "stdout",
     "output_type": "stream",
     "text": [
      "Bir sayi girin5\n",
      "Girilen sayi : 5\n",
      "Bir sayi giriniz (Çıkmak için 0)6\n",
      "Girilen sayi : 6\n",
      "Bir sayi giriniz (Çıkmak için 0)7\n",
      "Girilen sayi : 7\n",
      "Bir sayi giriniz (Çıkmak için 0)0\n"
     ]
    }
   ],
   "source": [
    "sayi = int(input(\"Bir sayi girin\"))\n",
    "while sayi != 0:\n",
    "    print(f\"Girilen sayi : {sayi}\")\n",
    "    sayi = int(input(\"Bir sayi giriniz (Çıkmak için 0)\"))"
   ]
  },
  {
   "cell_type": "code",
   "execution_count": 5,
   "id": "77fe43c6",
   "metadata": {},
   "outputs": [
    {
     "name": "stdout",
     "output_type": "stream",
     "text": [
      "Bir sayi girin1\n",
      "Bir sayi girin (Çıkmak için 0)3\n",
      "Bir sayi girin (Çıkmak için 0)5\n",
      "Bir sayi girin (Çıkmak için 0)0\n",
      "Girilen sayıların toplamı : 9\n"
     ]
    }
   ],
   "source": [
    "sayi = int(input(\"Bir sayi girin\"))\n",
    "toplam = 0\n",
    "while sayi != 0:\n",
    "    toplam += sayi\n",
    "    sayi = int(input(\"Bir sayi girin (Çıkmak için 0)\"))\n",
    "print(f\"Girilen sayıların toplamı : {toplam}\")"
   ]
  },
  {
   "cell_type": "code",
   "execution_count": 6,
   "id": "06db7761",
   "metadata": {},
   "outputs": [
    {
     "name": "stdout",
     "output_type": "stream",
     "text": [
      "Parola giriniz :5565\n",
      "Parola giriniz :44545\n",
      "Parola giriniz :1234\n",
      "Doğru parola\n"
     ]
    }
   ],
   "source": [
    "parola = \"\"\n",
    "while parola != \"1234\":\n",
    "    parola = input(\"Parola giriniz :\")\n",
    "print(\"Doğru parola\")"
   ]
  },
  {
   "cell_type": "raw",
   "id": "eec3e69f",
   "metadata": {},
   "source": [
    "1 ile 10 arası random bir sayı alın\n",
    "Kullanıcıdan tahmin yapmasını isteyin -- doğru tahmini yapana kadar\n",
    "tahmin tutulan sayıdan küçükse -- \"büyük sayı gir\"\n",
    "tersiyse \"küçük sayı gir\" şeklinde yönlendirin\n",
    "tutulan sayı bulunduğunda tebrikler tutulan sayı buldunuz şeklinde çıktı versin"
   ]
  },
  {
   "cell_type": "code",
   "execution_count": 7,
   "id": "fb33299a",
   "metadata": {},
   "outputs": [
    {
     "name": "stdout",
     "output_type": "stream",
     "text": [
      "1 ile 10 arasında bir sayi girin5\n",
      "daha büyük sayı gir\n",
      "1 ile 10 arasında bir sayi girin4\n",
      "daha büyük sayı gir\n",
      "1 ile 10 arasında bir sayi girin9\n",
      "Daha küçük sayı gir\n",
      "1 ile 10 arasında bir sayi girin1\n",
      "daha büyük sayı gir\n",
      "1 ile 10 arasında bir sayi girin8\n",
      "tebrikler 8 sayısını doğru tahmin ettiniz\n"
     ]
    }
   ],
   "source": [
    "import random\n",
    "tutulan_sayi = random.randint(1,10)\n",
    "tahmin = -1\n",
    "while tahmin != tutulan_sayi:\n",
    "    tahmin = int(input(\"1 ile 10 arasında bir sayi girin\"))\n",
    "    if tahmin < tutulan_sayi:\n",
    "        print(\"daha büyük sayı gir\")\n",
    "    elif tahmin>tutulan_sayi:\n",
    "        print(\"Daha küçük sayı gir\")\n",
    "\n",
    "print(f\"tebrikler {tutulan_sayi} sayısını doğru tahmin ettiniz\")\n"
   ]
  },
  {
   "cell_type": "code",
   "execution_count": 9,
   "id": "53b637bf",
   "metadata": {},
   "outputs": [
    {
     "name": "stdout",
     "output_type": "stream",
     "text": [
      "elma\n",
      "muz\n",
      "çilek\n"
     ]
    }
   ],
   "source": [
    "meyveler = [\"elma\", \"muz\" , \"çilek\"]\n",
    "for item in meyveler:\n",
    "    print(item)"
   ]
  },
  {
   "cell_type": "code",
   "execution_count": 10,
   "id": "9fe35c74",
   "metadata": {},
   "outputs": [
    {
     "name": "stdout",
     "output_type": "stream",
     "text": [
      "0\n",
      "1\n",
      "2\n",
      "3\n",
      "4\n"
     ]
    }
   ],
   "source": [
    "for i in range(5):\n",
    "    print(i)"
   ]
  },
  {
   "cell_type": "code",
   "execution_count": 11,
   "id": "d6f2389c",
   "metadata": {},
   "outputs": [
    {
     "name": "stdout",
     "output_type": "stream",
     "text": [
      "2\n",
      "3\n",
      "4\n",
      "5\n",
      "6\n"
     ]
    }
   ],
   "source": [
    "for i in range(2,7):\n",
    "    print(i)"
   ]
  },
  {
   "cell_type": "code",
   "execution_count": 13,
   "id": "8201248d",
   "metadata": {},
   "outputs": [
    {
     "name": "stdout",
     "output_type": "stream",
     "text": [
      "0\n",
      "3\n",
      "6\n",
      "9\n"
     ]
    }
   ],
   "source": [
    "for i in range(0,10,3):\n",
    "    print(i)"
   ]
  },
  {
   "cell_type": "code",
   "execution_count": 14,
   "id": "141416a3",
   "metadata": {},
   "outputs": [
    {
     "name": "stdout",
     "output_type": "stream",
     "text": [
      "10\n",
      "8\n",
      "6\n",
      "4\n",
      "2\n"
     ]
    }
   ],
   "source": [
    "for i in range(10,0,-2):\n",
    "    print(i)"
   ]
  },
  {
   "cell_type": "code",
   "execution_count": 15,
   "id": "5845c94c",
   "metadata": {},
   "outputs": [
    {
     "name": "stdout",
     "output_type": "stream",
     "text": [
      "P\n",
      "y\n",
      "t\n",
      "h\n",
      "o\n",
      "n\n"
     ]
    }
   ],
   "source": [
    "isim = \"Python\"\n",
    "for harf in isim:\n",
    "    print(harf)"
   ]
  },
  {
   "cell_type": "code",
   "execution_count": 16,
   "id": "db198334",
   "metadata": {},
   "outputs": [
    {
     "name": "stdout",
     "output_type": "stream",
     "text": [
      "1 x 1 = 1\t1 x 2 = 2\t1 x 3 = 3\t1 x 4 = 4\t1 x 5 = 5\t1 x 6 = 6\t1 x 7 = 7\t1 x 8 = 8\t1 x 9 = 9\t1 x 10 = 10\t\n",
      "2 x 1 = 2\t2 x 2 = 4\t2 x 3 = 6\t2 x 4 = 8\t2 x 5 = 10\t2 x 6 = 12\t2 x 7 = 14\t2 x 8 = 16\t2 x 9 = 18\t2 x 10 = 20\t\n",
      "3 x 1 = 3\t3 x 2 = 6\t3 x 3 = 9\t3 x 4 = 12\t3 x 5 = 15\t3 x 6 = 18\t3 x 7 = 21\t3 x 8 = 24\t3 x 9 = 27\t3 x 10 = 30\t\n",
      "4 x 1 = 4\t4 x 2 = 8\t4 x 3 = 12\t4 x 4 = 16\t4 x 5 = 20\t4 x 6 = 24\t4 x 7 = 28\t4 x 8 = 32\t4 x 9 = 36\t4 x 10 = 40\t\n",
      "5 x 1 = 5\t5 x 2 = 10\t5 x 3 = 15\t5 x 4 = 20\t5 x 5 = 25\t5 x 6 = 30\t5 x 7 = 35\t5 x 8 = 40\t5 x 9 = 45\t5 x 10 = 50\t\n",
      "6 x 1 = 6\t6 x 2 = 12\t6 x 3 = 18\t6 x 4 = 24\t6 x 5 = 30\t6 x 6 = 36\t6 x 7 = 42\t6 x 8 = 48\t6 x 9 = 54\t6 x 10 = 60\t\n",
      "7 x 1 = 7\t7 x 2 = 14\t7 x 3 = 21\t7 x 4 = 28\t7 x 5 = 35\t7 x 6 = 42\t7 x 7 = 49\t7 x 8 = 56\t7 x 9 = 63\t7 x 10 = 70\t\n",
      "8 x 1 = 8\t8 x 2 = 16\t8 x 3 = 24\t8 x 4 = 32\t8 x 5 = 40\t8 x 6 = 48\t8 x 7 = 56\t8 x 8 = 64\t8 x 9 = 72\t8 x 10 = 80\t\n",
      "9 x 1 = 9\t9 x 2 = 18\t9 x 3 = 27\t9 x 4 = 36\t9 x 5 = 45\t9 x 6 = 54\t9 x 7 = 63\t9 x 8 = 72\t9 x 9 = 81\t9 x 10 = 90\t\n",
      "10 x 1 = 10\t10 x 2 = 20\t10 x 3 = 30\t10 x 4 = 40\t10 x 5 = 50\t10 x 6 = 60\t10 x 7 = 70\t10 x 8 = 80\t10 x 9 = 90\t10 x 10 = 100\t\n"
     ]
    }
   ],
   "source": [
    "for i in range(1,11):\n",
    "    for j in range(1,11):\n",
    "        print(f\"{i} x {j} = {i*j}\", end =\"\\t\")\n",
    "    print()"
   ]
  },
  {
   "cell_type": "code",
   "execution_count": 17,
   "id": "abad18eb",
   "metadata": {},
   "outputs": [
    {
     "name": "stdout",
     "output_type": "stream",
     "text": [
      "1 2 3 4 5 \n",
      "1 2 3 4 5 \n",
      "1 2 3 4 5 \n",
      "1 2 3 4 5 \n",
      "1 2 3 4 5 \n"
     ]
    }
   ],
   "source": [
    "for i in range(1,6):\n",
    "    for j in range(1,6):\n",
    "        print(j, end=\" \")\n",
    "    print()"
   ]
  },
  {
   "cell_type": "code",
   "execution_count": 19,
   "id": "31ae103a",
   "metadata": {},
   "outputs": [
    {
     "name": "stdout",
     "output_type": "stream",
     "text": [
      "* \n",
      "* * \n",
      "* * * \n",
      "* * * * \n",
      "* * * * * \n",
      "* * * * * * \n"
     ]
    }
   ],
   "source": [
    "satir_sayisi = 6\n",
    "for i in range(1, satir_sayisi+1):\n",
    "    for j in range(i):\n",
    "        print(\"*\", end=\" \")\n",
    "    print()"
   ]
  },
  {
   "cell_type": "code",
   "execution_count": 21,
   "id": "54c218de",
   "metadata": {},
   "outputs": [
    {
     "name": "stdout",
     "output_type": "stream",
     "text": [
      "1 \n",
      "1 2 \n",
      "1 2 3 \n",
      "1 2 3 4 \n",
      "1 2 3 4 5 \n"
     ]
    }
   ],
   "source": [
    "for i in range(1,6):\n",
    "    for j in range(1, i+1):\n",
    "        print(j, end =\" \")\n",
    "    print()"
   ]
  },
  {
   "cell_type": "code",
   "execution_count": 22,
   "id": "4c0b0d00",
   "metadata": {},
   "outputs": [
    {
     "name": "stdout",
     "output_type": "stream",
     "text": [
      "ad : Ali\n",
      "yas : 25\n",
      "meslek : mühendis\n"
     ]
    }
   ],
   "source": [
    "bilgiler = {\"ad\":\"Ali\", \"yas\":25, \"meslek\":\"mühendis\"}\n",
    "for key,value in bilgiler.items():\n",
    "    print(f\"{key} : {value}\")"
   ]
  },
  {
   "cell_type": "code",
   "execution_count": 23,
   "id": "215da160",
   "metadata": {},
   "outputs": [
    {
     "name": "stdout",
     "output_type": "stream",
     "text": [
      "[10, 42, 12]\n",
      "[25, 35]\n"
     ]
    }
   ],
   "source": [
    "sayilar = [10, 25, 35, 42, 12]\n",
    "cift_sayilar = []\n",
    "tek_sayilar = []\n",
    "for sayi in sayilar:\n",
    "    if sayi % 2 == 0:\n",
    "        cift_sayilar.append(sayi)\n",
    "    else:\n",
    "        tek_sayilar.append(sayi)\n",
    "\n",
    "print(cift_sayilar)\n",
    "print(tek_sayilar)"
   ]
  },
  {
   "cell_type": "code",
   "execution_count": 24,
   "id": "20dee1eb",
   "metadata": {},
   "outputs": [
    {
     "name": "stdout",
     "output_type": "stream",
     "text": [
      "0\n",
      "1\n",
      "2\n",
      "3\n",
      "4\n"
     ]
    }
   ],
   "source": [
    "for i in range(10):\n",
    "    if i == 5:\n",
    "        break\n",
    "    print(i)"
   ]
  },
  {
   "cell_type": "code",
   "execution_count": 25,
   "id": "c8a1e456",
   "metadata": {},
   "outputs": [
    {
     "name": "stdout",
     "output_type": "stream",
     "text": [
      "tek sayi 1\n",
      "tek sayi 3\n",
      "tek sayi 5\n",
      "tek sayi 7\n",
      "tek sayi 9\n"
     ]
    }
   ],
   "source": [
    "for sayi in range(1,11):\n",
    "    if sayi % 2 == 0:\n",
    "        continue\n",
    "    print(f\"tek sayi {sayi}\")"
   ]
  },
  {
   "cell_type": "code",
   "execution_count": 27,
   "id": "3d012b73",
   "metadata": {},
   "outputs": [
    {
     "name": "stdout",
     "output_type": "stream",
     "text": [
      "Kaç tane not gireceksiniz: 2\n",
      "1.notu girin :30\n",
      "2.notu girin :50\n",
      "Öğrenci 1 - Not: 30, Durum: kaldı\n",
      "Öğrenci 2 - Not: 50, Durum: geçti\n"
     ]
    }
   ],
   "source": [
    "not_sayisi = int(input(\"Kaç tane not gireceksiniz: \"))\n",
    "notlar = []\n",
    "for i in range(not_sayisi):\n",
    "    notu=int(input(f\"{i+1}.notu girin :\"))\n",
    "    notlar.append(notu)\n",
    "\n",
    "durumlar = []\n",
    "\n",
    "for notu in notlar:\n",
    "    if notu>=50:\n",
    "        durumlar.append(\"geçti\")\n",
    "    else:\n",
    "        durumlar.append(\"kaldı\")\n",
    "        \n",
    "for i in range(len(notlar)):\n",
    "    print(f\"Öğrenci {i+1} - Not: {notlar[i]}, Durum: {durumlar[i]}\")"
   ]
  },
  {
   "cell_type": "raw",
   "id": "e1d95e92",
   "metadata": {},
   "source": [
    "Bu programda her öğrencinin 3 sınav notunu alacak,\n",
    "not ortalamasına göre geçip geçmediğini hesaplayacak ve \n",
    "aynı zamanda öğrencilerin katıldıkları kulüpleri listeleyeceksiniz.\n",
    "\n",
    "İşte adım adım yapmanız gerekenler:\n",
    "Öğrenci bilgilerini girin: \n",
    "Kullanıcıdan her bir öğrenci için adını, \n",
    "3 sınav notunu ve katıldığı kulüpleri (boş bırakabilirler) alın. \n",
    "Bu bilgileri iki farklı dictionary'de saklayın:\n",
    "\n",
    "Bir sözlükte her öğrencinin notlarını tutun.\n",
    "Diğer bir sözlükte her öğrencinin katıldığı kulüpleri tutun.\n",
    "Geçme/Kalma Durumunu Hesaplayın: Her öğrencinin notlarının ortalamasını hesaplayarak eğer ortalama 50 veya üzerindeyse \"Geçti\", değilse \"Kaldı\" sonucunu yazdırın.\n",
    "\n",
    "Kulüp Katılımı Analiz Edin: Her öğrencinin katıldığı kulüpleri sayın. Eğer bir öğrenci hiç kulübe katılmadıysa, bu öğrencinin 0 kulübe katıldığını yazdırın. Ayrıca en çok katılım gösterilen kulübü bulun ve en popüler kulübü ekrana yazdırın.\n",
    "\n",
    "Tüm Öğrencilerin Kulüp Katılımlarını Listeleyin: Her öğrencinin katıldığı kulüpleri ekrana yazdırın. Eğer öğrenci hiçbir kulübe katılmadıysa bunu da belirtin.\n",
    "\n",
    "Ahmet - Ortalama: 61.67 - Durum: Geçti\n",
    "Ayşe - Ortalama: 45.00 - Durum: Kaldı\n",
    "\n",
    "Ahmet şu kulüplere katıldı: Satranç, Müzik\n",
    "Ayşe hiçbir kulübe katılmadı.\n"
   ]
  }
 ],
 "metadata": {
  "kernelspec": {
   "display_name": "Python 3 (ipykernel)",
   "language": "python",
   "name": "python3"
  },
  "language_info": {
   "codemirror_mode": {
    "name": "ipython",
    "version": 3
   },
   "file_extension": ".py",
   "mimetype": "text/x-python",
   "name": "python",
   "nbconvert_exporter": "python",
   "pygments_lexer": "ipython3",
   "version": "3.9.16"
  }
 },
 "nbformat": 4,
 "nbformat_minor": 5
}
