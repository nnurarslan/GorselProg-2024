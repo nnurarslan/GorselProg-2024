{
 "cells": [
  {
   "cell_type": "code",
   "execution_count": null,
   "id": "c5af3d70",
   "metadata": {},
   "outputs": [],
   "source": [
    "print(\"Hello world!\")"
   ]
  },
  {
   "cell_type": "code",
   "execution_count": null,
   "id": "c4809190",
   "metadata": {},
   "outputs": [],
   "source": [
    "'''\n",
    "Bu bir \n",
    "coklu satir\n",
    "'''\n",
    "print(\"Merhaba\\nDunya\") #Yeni satir"
   ]
  },
  {
   "cell_type": "code",
   "execution_count": null,
   "id": "6ce155b1",
   "metadata": {},
   "outputs": [],
   "source": [
    "print(\"Merhaba\\tDunya\") "
   ]
  },
  {
   "cell_type": "code",
   "execution_count": null,
   "id": "60d1b323",
   "metadata": {},
   "outputs": [],
   "source": [
    "print(\"ilk satir\")\n",
    "print()\n",
    "print(\"ikinci satir\")"
   ]
  },
  {
   "cell_type": "code",
   "execution_count": null,
   "id": "49e5be3c",
   "metadata": {},
   "outputs": [],
   "source": [
    "print(\"Python \" *5)"
   ]
  },
  {
   "cell_type": "code",
   "execution_count": null,
   "id": "f3ccaff6",
   "metadata": {},
   "outputs": [],
   "source": [
    "print(\"Python\",\"Java\",\"C++\", sep=\" - \")"
   ]
  },
  {
   "cell_type": "code",
   "execution_count": null,
   "id": "eee767a1",
   "metadata": {},
   "outputs": [],
   "source": [
    "print(\"It's alright\")"
   ]
  },
  {
   "cell_type": "code",
   "execution_count": null,
   "id": "8f5fdb5e",
   "metadata": {},
   "outputs": [],
   "source": [
    "print('He is called \"Johnny\"')"
   ]
  },
  {
   "cell_type": "code",
   "execution_count": null,
   "id": "23f3e87a",
   "metadata": {},
   "outputs": [],
   "source": [
    "str = \"Hello, World!\"\n",
    "print(str[-1])"
   ]
  },
  {
   "cell_type": "code",
   "execution_count": null,
   "id": "cae547c2",
   "metadata": {},
   "outputs": [],
   "source": [
    "print(str[2:5])"
   ]
  },
  {
   "cell_type": "code",
   "execution_count": null,
   "id": "af9fb9b3",
   "metadata": {},
   "outputs": [],
   "source": [
    "print(str[2:])"
   ]
  },
  {
   "cell_type": "code",
   "execution_count": null,
   "id": "b9c949ff",
   "metadata": {},
   "outputs": [],
   "source": [
    "print(str[:5])"
   ]
  },
  {
   "cell_type": "code",
   "execution_count": null,
   "id": "db99a460",
   "metadata": {},
   "outputs": [],
   "source": [
    "print(str[-5:-2])"
   ]
  },
  {
   "cell_type": "code",
   "execution_count": null,
   "id": "072c3707",
   "metadata": {},
   "outputs": [],
   "source": [
    "print(str.upper())"
   ]
  },
  {
   "cell_type": "code",
   "execution_count": null,
   "id": "34b351a4",
   "metadata": {},
   "outputs": [],
   "source": [
    "print(str.lower())"
   ]
  },
  {
   "cell_type": "code",
   "execution_count": null,
   "id": "ae15029a",
   "metadata": {},
   "outputs": [],
   "source": [
    "str = \"hello\""
   ]
  },
  {
   "cell_type": "code",
   "execution_count": null,
   "id": "d75792e1",
   "metadata": {},
   "outputs": [],
   "source": [
    "print(str.capitalize())"
   ]
  },
  {
   "cell_type": "code",
   "execution_count": null,
   "id": "d3cc2551",
   "metadata": {},
   "outputs": [],
   "source": [
    "str = \"  Hello World! \""
   ]
  },
  {
   "cell_type": "code",
   "execution_count": null,
   "id": "cc822b42",
   "metadata": {},
   "outputs": [],
   "source": [
    "print(str)"
   ]
  },
  {
   "cell_type": "code",
   "execution_count": null,
   "id": "bda24dc8",
   "metadata": {},
   "outputs": [],
   "source": [
    "print(str.strip())"
   ]
  },
  {
   "cell_type": "code",
   "execution_count": null,
   "id": "97ba2561",
   "metadata": {},
   "outputs": [],
   "source": [
    "str = \"Python Programlama\"\n",
    "print(str.find(\"Programlama\"))"
   ]
  },
  {
   "cell_type": "code",
   "execution_count": null,
   "id": "37bb03f0",
   "metadata": {},
   "outputs": [],
   "source": [
    "print(str.count(\"a\"))"
   ]
  },
  {
   "cell_type": "code",
   "execution_count": null,
   "id": "e066288b",
   "metadata": {},
   "outputs": [],
   "source": [
    "str = \"Hello World\"\n",
    "print(str.replace(\"H\",\"J\"))"
   ]
  },
  {
   "cell_type": "code",
   "execution_count": null,
   "id": "282a263b",
   "metadata": {},
   "outputs": [],
   "source": [
    "str = \"Java, Python, C\"\n",
    "print(str.split(\",\"))"
   ]
  },
  {
   "cell_type": "code",
   "execution_count": null,
   "id": "6c043999",
   "metadata": {},
   "outputs": [],
   "source": [
    "a=\"Hello\"\n",
    "b=\"World\"\n",
    "c=a+ \" \" +b\n",
    "print(c)"
   ]
  },
  {
   "cell_type": "code",
   "execution_count": null,
   "id": "d4763d53",
   "metadata": {},
   "outputs": [],
   "source": [
    "age=36\n",
    "txt=\"I am \" + age\n",
    "print(txt)"
   ]
  },
  {
   "cell_type": "code",
   "execution_count": null,
   "id": "d2567d5a",
   "metadata": {},
   "outputs": [],
   "source": [
    "age=36\n",
    "txt=f\"I am {age}\"\n",
    "print(txt)"
   ]
  },
  {
   "cell_type": "code",
   "execution_count": null,
   "id": "7211d073",
   "metadata": {},
   "outputs": [],
   "source": [
    "x=\"5\"\n",
    "y=\"John\"\n",
    "str = x+ \",\" + y\n",
    "print(str)"
   ]
  },
  {
   "cell_type": "code",
   "execution_count": null,
   "id": "4267cdcf",
   "metadata": {},
   "outputs": [],
   "source": [
    "x=5\n",
    "y=\"John\"\n",
    "print(x,y)"
   ]
  },
  {
   "cell_type": "code",
   "execution_count": null,
   "id": "b953af04",
   "metadata": {},
   "outputs": [],
   "source": [
    "a=4\n",
    "A=\"Sally\"\n",
    "print(a)\n",
    "print(A)"
   ]
  },
  {
   "cell_type": "code",
   "execution_count": null,
   "id": "a9db555f",
   "metadata": {},
   "outputs": [],
   "source": [
    "x=\"John\"\n",
    "print(x)\n",
    "x='John'\n",
    "print(x)"
   ]
  },
  {
   "cell_type": "code",
   "execution_count": null,
   "id": "a4f01032",
   "metadata": {},
   "outputs": [],
   "source": [
    "print(10==19)"
   ]
  },
  {
   "cell_type": "code",
   "execution_count": null,
   "id": "16b0a84a",
   "metadata": {},
   "outputs": [],
   "source": [
    "myvar = \"John\"\n",
    "my_var = \"John\"\n",
    "_my_var=\"John\"\n",
    "MYVAR = \"John\"\n",
    "myvar2=\"John\""
   ]
  },
  {
   "cell_type": "code",
   "execution_count": null,
   "id": "131b6740",
   "metadata": {},
   "outputs": [],
   "source": [
    "2myvar = \"John\" "
   ]
  },
  {
   "cell_type": "code",
   "execution_count": null,
   "id": "23135185",
   "metadata": {},
   "outputs": [],
   "source": [
    "my-var=\"John\""
   ]
  },
  {
   "cell_type": "code",
   "execution_count": null,
   "id": "53fcee1e",
   "metadata": {},
   "outputs": [],
   "source": [
    "my var=\"John\""
   ]
  },
  {
   "cell_type": "code",
   "execution_count": 1,
   "id": "020afa91",
   "metadata": {},
   "outputs": [
    {
     "name": "stdout",
     "output_type": "stream",
     "text": [
      "3\n",
      "3\n",
      "3.0\n"
     ]
    }
   ],
   "source": [
    "x= str(3)\n",
    "y= int(3)\n",
    "z= float(3)\n",
    "print(x)\n",
    "print(y)\n",
    "print(z)"
   ]
  },
  {
   "cell_type": "code",
   "execution_count": 4,
   "id": "20ece80a",
   "metadata": {},
   "outputs": [
    {
     "name": "stdout",
     "output_type": "stream",
     "text": [
      "İsim : Ali , Yas : 20\n"
     ]
    }
   ],
   "source": [
    "isim = \"Ali\"\n",
    "yas = 20\n",
    "print(\"İsim :\",isim, \", Yas :\", yas)\n"
   ]
  },
  {
   "cell_type": "code",
   "execution_count": 5,
   "id": "2166e777",
   "metadata": {},
   "outputs": [
    {
     "name": "stdout",
     "output_type": "stream",
     "text": [
      "5 10 15\n"
     ]
    }
   ],
   "source": [
    "a,b,c=5,10,15\n",
    "print(a,b,c)"
   ]
  },
  {
   "cell_type": "code",
   "execution_count": 6,
   "id": "2f3d503e",
   "metadata": {},
   "outputs": [
    {
     "name": "stdout",
     "output_type": "stream",
     "text": [
      "orange\n"
     ]
    }
   ],
   "source": [
    "x=y=z=\"orange\"\n",
    "print(x)"
   ]
  },
  {
   "cell_type": "code",
   "execution_count": 7,
   "id": "1a894ba3",
   "metadata": {},
   "outputs": [
    {
     "name": "stdout",
     "output_type": "stream",
     "text": [
      "apple\n"
     ]
    }
   ],
   "source": [
    "fruits = [\"apple\", \"banana\", \"cherry\"]\n",
    "x,y,z=fruits\n",
    "print(x)"
   ]
  },
  {
   "cell_type": "code",
   "execution_count": 8,
   "id": "fc395d1e",
   "metadata": {},
   "outputs": [
    {
     "name": "stdout",
     "output_type": "stream",
     "text": [
      "15\n"
     ]
    }
   ],
   "source": [
    "x=5\n",
    "y=10\n",
    "print(x+y)"
   ]
  },
  {
   "cell_type": "code",
   "execution_count": 9,
   "id": "0153cace",
   "metadata": {},
   "outputs": [
    {
     "name": "stdout",
     "output_type": "stream",
     "text": [
      "Evli mi?  False\n"
     ]
    }
   ],
   "source": [
    "isim = \"Ayşe\"\n",
    "yas = 22\n",
    "boy = 1.68\n",
    "evli_mi = False\n",
    "\n",
    "print(\"Evli mi? \", evli_mi)"
   ]
  },
  {
   "cell_type": "code",
   "execution_count": 10,
   "id": "8f313323",
   "metadata": {},
   "outputs": [
    {
     "name": "stdout",
     "output_type": "stream",
     "text": [
      "İsim: Ayşe, Yas: 22\n"
     ]
    }
   ],
   "source": [
    "print(\"İsim: {}, Yas: {}\".format(isim,yas))"
   ]
  },
  {
   "cell_type": "code",
   "execution_count": 13,
   "id": "1c08c12f",
   "metadata": {},
   "outputs": [
    {
     "name": "stdout",
     "output_type": "stream",
     "text": [
      "Pi sayısı 3.142\n"
     ]
    }
   ],
   "source": [
    "pi=3.14159\n",
    "print(\"Pi sayısı {:.3f}\".format(pi))"
   ]
  },
  {
   "cell_type": "code",
   "execution_count": 14,
   "id": "27b13fa0",
   "metadata": {},
   "outputs": [
    {
     "name": "stdout",
     "output_type": "stream",
     "text": [
      "İsim: Pelin, Yas: 19\n"
     ]
    }
   ],
   "source": [
    "isim=\"Pelin\"\n",
    "yas=\"19\"\n",
    "print(f\"İsim: {isim}, Yas: {yas}\")"
   ]
  },
  {
   "cell_type": "code",
   "execution_count": 17,
   "id": "fee629f1",
   "metadata": {},
   "outputs": [
    {
     "name": "stdout",
     "output_type": "stream",
     "text": [
      "Yasiniz : 24\n"
     ]
    }
   ],
   "source": [
    "yas=24\n",
    "print(\"Yasiniz : \" + str(yas))"
   ]
  },
  {
   "cell_type": "code",
   "execution_count": 18,
   "id": "1e0a3219",
   "metadata": {},
   "outputs": [
    {
     "name": "stdout",
     "output_type": "stream",
     "text": [
      "Toplam: 15, Çarpım: 50\n"
     ]
    }
   ],
   "source": [
    "a=5\n",
    "b=10\n",
    "toplam=a+b\n",
    "carpim=a*b\n",
    "print(f\"Toplam: {toplam}, Çarpım: {carpim}\")"
   ]
  },
  {
   "cell_type": "code",
   "execution_count": 19,
   "id": "4f5ecdda",
   "metadata": {},
   "outputs": [
    {
     "name": "stdout",
     "output_type": "stream",
     "text": [
      "5\n"
     ]
    }
   ],
   "source": [
    "print(5+4-7+3)"
   ]
  },
  {
   "cell_type": "code",
   "execution_count": 20,
   "id": "0789f8b7",
   "metadata": {},
   "outputs": [
    {
     "name": "stdout",
     "output_type": "stream",
     "text": [
      "115\n"
     ]
    }
   ],
   "source": [
    "print(100+5*3)"
   ]
  },
  {
   "cell_type": "code",
   "execution_count": 21,
   "id": "19e1b2ae",
   "metadata": {},
   "outputs": [
    {
     "name": "stdout",
     "output_type": "stream",
     "text": [
      "0\n"
     ]
    }
   ],
   "source": [
    "print((6+3)-(6+3))"
   ]
  },
  {
   "cell_type": "code",
   "execution_count": 22,
   "id": "91b4a559",
   "metadata": {},
   "outputs": [
    {
     "name": "stdout",
     "output_type": "stream",
     "text": [
      "<class 'float'>\n"
     ]
    }
   ],
   "source": [
    "boy=1.85\n",
    "print(type(boy))"
   ]
  },
  {
   "cell_type": "code",
   "execution_count": 23,
   "id": "017b691e",
   "metadata": {},
   "outputs": [
    {
     "name": "stdout",
     "output_type": "stream",
     "text": [
      "None\n"
     ]
    }
   ],
   "source": [
    "sonuc=None\n",
    "print(sonuc)"
   ]
  },
  {
   "cell_type": "code",
   "execution_count": 24,
   "id": "7ca467cd",
   "metadata": {},
   "outputs": [
    {
     "name": "stdout",
     "output_type": "stream",
     "text": [
      "42\n"
     ]
    }
   ],
   "source": [
    "sonuc=42\n",
    "print(sonuc)"
   ]
  },
  {
   "cell_type": "code",
   "execution_count": 26,
   "id": "1d5d76ca",
   "metadata": {},
   "outputs": [
    {
     "name": "stdout",
     "output_type": "stream",
     "text": [
      "1\n"
     ]
    }
   ],
   "source": [
    "a=17\n",
    "b=4\n",
    "bolum = a // b\n",
    "mod = a % b\n",
    "print(mod)"
   ]
  },
  {
   "cell_type": "code",
   "execution_count": 27,
   "id": "0788c29c",
   "metadata": {},
   "outputs": [
    {
     "name": "stdout",
     "output_type": "stream",
     "text": [
      "8\n"
     ]
    }
   ],
   "source": [
    "a=2\n",
    "b=3\n",
    "us = a ** b\n",
    "print(us)"
   ]
  },
  {
   "cell_type": "code",
   "execution_count": 28,
   "id": "1e92f833",
   "metadata": {},
   "outputs": [
    {
     "name": "stdout",
     "output_type": "stream",
     "text": [
      "4.0\n"
     ]
    }
   ],
   "source": [
    "import math\n",
    "sayi = 16\n",
    "karekok = math.sqrt(sayi)\n",
    "print(karekok)"
   ]
  },
  {
   "cell_type": "code",
   "execution_count": 29,
   "id": "6d8eeba1",
   "metadata": {},
   "outputs": [
    {
     "name": "stdout",
     "output_type": "stream",
     "text": [
      "15\n"
     ]
    }
   ],
   "source": [
    "sayi = -15\n",
    "mutlak_deger = abs(sayi)\n",
    "print(mutlak_deger)"
   ]
  },
  {
   "cell_type": "code",
   "execution_count": 30,
   "id": "3a109efa",
   "metadata": {},
   "outputs": [
    {
     "name": "stdout",
     "output_type": "stream",
     "text": [
      "3.14\n"
     ]
    }
   ],
   "source": [
    "sayi=3.14155\n",
    "yuvarlanmis=round(sayi,2)\n",
    "print(yuvarlanmis)\n"
   ]
  },
  {
   "cell_type": "code",
   "execution_count": 31,
   "id": "d43fd2c9",
   "metadata": {},
   "outputs": [
    {
     "name": "stdout",
     "output_type": "stream",
     "text": [
      "Rastgele sayi 1\n"
     ]
    }
   ],
   "source": [
    "import random\n",
    "rastgele_sayi=random.randint(1,50)\n",
    "print(\"Rastgele sayi\",rastgele_sayi)"
   ]
  },
  {
   "cell_type": "code",
   "execution_count": 32,
   "id": "8680dbc1",
   "metadata": {},
   "outputs": [
    {
     "name": "stdout",
     "output_type": "stream",
     "text": [
      "3.141592653589793\n"
     ]
    }
   ],
   "source": [
    "import math\n",
    "pi=math.pi\n",
    "e=math.e\n",
    "print(pi)"
   ]
  },
  {
   "cell_type": "code",
   "execution_count": 34,
   "id": "f5e09941",
   "metadata": {},
   "outputs": [
    {
     "name": "stdout",
     "output_type": "stream",
     "text": [
      "-2\n"
     ]
    }
   ],
   "source": [
    "sayi1=-2\n",
    "sayi2=3\n",
    "sayi3=5\n",
    "en_buyuk=max(sayi1,sayi2,sayi3)\n",
    "en_kucuk=min(sayi1,sayi2,sayi3)\n",
    "print(en_kucuk)"
   ]
  },
  {
   "cell_type": "code",
   "execution_count": 36,
   "id": "d8395db3",
   "metadata": {},
   "outputs": [
    {
     "name": "stdout",
     "output_type": "stream",
     "text": [
      "2.3333333333333335\n",
      "2.33\n"
     ]
    }
   ],
   "source": [
    "sayi=7/3\n",
    "print(sayi)\n",
    "sayi1=round(sayi,2)\n",
    "print(sayi1)"
   ]
  },
  {
   "cell_type": "code",
   "execution_count": 38,
   "id": "5fd627bc",
   "metadata": {},
   "outputs": [
    {
     "name": "stdout",
     "output_type": "stream",
     "text": [
      "Bir sayi giriniz5\n"
     ]
    }
   ],
   "source": [
    "sayi = input(\"Bir sayi giriniz\")"
   ]
  },
  {
   "cell_type": "code",
   "execution_count": null,
   "id": "40e19212",
   "metadata": {},
   "outputs": [],
   "source": []
  }
 ],
 "metadata": {
  "kernelspec": {
   "display_name": "Python 3 (ipykernel)",
   "language": "python",
   "name": "python3"
  },
  "language_info": {
   "codemirror_mode": {
    "name": "ipython",
    "version": 3
   },
   "file_extension": ".py",
   "mimetype": "text/x-python",
   "name": "python",
   "nbconvert_exporter": "python",
   "pygments_lexer": "ipython3",
   "version": "3.10.9"
  }
 },
 "nbformat": 4,
 "nbformat_minor": 5
}
