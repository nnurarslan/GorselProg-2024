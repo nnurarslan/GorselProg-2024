{
 "cells": [
  {
   "cell_type": "code",
   "execution_count": 7,
   "id": "d76f9e7c",
   "metadata": {},
   "outputs": [
    {
     "name": "stdout",
     "output_type": "stream",
     "text": [
      "Ford\n",
      "0\n",
      "Toyota\n",
      "100\n",
      "Focus hizlaniyor: Şuanki hiz 20 km/s\n",
      "Focus hizlaniyor: Şuanki hiz 50 km/s\n"
     ]
    }
   ],
   "source": [
    "class Araba:\n",
    "    def __init__(self, marka, model, hiz=0):\n",
    "        self.marka = marka\n",
    "        self.model = model\n",
    "        self.hiz = hiz\n",
    "    def hizlan(self, miktar):\n",
    "        self.hiz += miktar\n",
    "        print(f\"{self.model} hizlaniyor: Şuanki hiz {self.hiz} km/s\")\n",
    "\n",
    "araba1 = Araba(\"Ford\", \"Focus\")\n",
    "araba2 = Araba(\"Toyota\", \"Corolla\", 100)\n",
    "\n",
    "print(araba1.marka)\n",
    "print(araba1.hiz)\n",
    "\n",
    "print(araba2.marka)\n",
    "print(araba2.hiz)\n",
    "araba1.hizlan(20)\n",
    "araba1.hizlan(30)"
   ]
  },
  {
   "cell_type": "code",
   "execution_count": 8,
   "id": "b45f3793",
   "metadata": {},
   "outputs": [
    {
     "name": "stdout",
     "output_type": "stream",
     "text": [
      "Ali\n"
     ]
    }
   ],
   "source": [
    "class BankaHesabi:\n",
    "    def __init__(self, hesap_sahibi, bakiye=0):\n",
    "        self.hesap_sahibi = hesap_sahibi\n",
    "        self.__bakiye = bakiye\n",
    "    \n",
    "    def bakiye_goruntule(self):\n",
    "        return self.__bakiye\n",
    "    \n",
    "    def para_yatir(self, miktar):\n",
    "        self.__bakiye += miktar\n",
    "        \n",
    "hesap = BankaHesabi(\"Ali\", 1000)\n",
    "print(hesap.hesap_sahibi)"
   ]
  },
  {
   "cell_type": "code",
   "execution_count": 9,
   "id": "bdbf6454",
   "metadata": {},
   "outputs": [
    {
     "ename": "AttributeError",
     "evalue": "'BankaHesabi' object has no attribute '__bakiye'",
     "output_type": "error",
     "traceback": [
      "\u001b[1;31m---------------------------------------------------------------------------\u001b[0m",
      "\u001b[1;31mAttributeError\u001b[0m                            Traceback (most recent call last)",
      "Cell \u001b[1;32mIn[9], line 1\u001b[0m\n\u001b[1;32m----> 1\u001b[0m \u001b[38;5;28mprint\u001b[39m(\u001b[43mhesap\u001b[49m\u001b[38;5;241;43m.\u001b[39;49m\u001b[43m__bakiye\u001b[49m)\n",
      "\u001b[1;31mAttributeError\u001b[0m: 'BankaHesabi' object has no attribute '__bakiye'"
     ]
    }
   ],
   "source": [
    "print(hesap.__bakiye)"
   ]
  },
  {
   "cell_type": "code",
   "execution_count": 10,
   "id": "8456c253",
   "metadata": {},
   "outputs": [
    {
     "name": "stdout",
     "output_type": "stream",
     "text": [
      "1000\n"
     ]
    }
   ],
   "source": [
    "print(hesap.bakiye_goruntule())"
   ]
  },
  {
   "cell_type": "code",
   "execution_count": 11,
   "id": "7ab2fc60",
   "metadata": {},
   "outputs": [],
   "source": [
    "hesap.para_yatir(100)"
   ]
  },
  {
   "cell_type": "code",
   "execution_count": 12,
   "id": "be739834",
   "metadata": {},
   "outputs": [
    {
     "name": "stdout",
     "output_type": "stream",
     "text": [
      "1100\n"
     ]
    }
   ],
   "source": [
    "print(hesap.bakiye_goruntule())"
   ]
  },
  {
   "cell_type": "code",
   "execution_count": 15,
   "id": "7e466a13",
   "metadata": {},
   "outputs": [
    {
     "name": "stdout",
     "output_type": "stream",
     "text": [
      "İsim : Ahmet Maaş: 15000\n",
      "Uzmanlik alani : Yazilim\n",
      "İsim : Ali Maaş: 20000\n",
      "Ekip sayisi : 5\n"
     ]
    }
   ],
   "source": [
    "class Calisan:\n",
    "    def __init__(self, isim, maas):\n",
    "        self.isim = isim\n",
    "        self.maas = maas\n",
    "    \n",
    "    def bilgi_ver(self):\n",
    "        print(f\"İsim : {self.isim} Maaş: {self.maas}\")\n",
    "\n",
    "class Muhendis(Calisan):\n",
    "    def __init__(self, isim, maas, uzmanlik_alani):\n",
    "        super().__init__(isim,maas)\n",
    "        self.uzmanlik_alani = uzmanlik_alani\n",
    "    \n",
    "    def bilgi_ver(self):\n",
    "        super().bilgi_ver()\n",
    "        print(f\"Uzmanlik alani : {self.uzmanlik_alani}\")\n",
    "    \n",
    "class Yonetici(Calisan):\n",
    "    def __init__(self, isim, maas, ekip_sayisi):\n",
    "        super().__init__(isim,maas)\n",
    "        self.ekip_sayisi = ekip_sayisi\n",
    "    def bilgi_ver(self):\n",
    "        super().bilgi_ver()\n",
    "        print(f\"Ekip sayisi : {self.ekip_sayisi}\")\n",
    "    \n",
    "muhendis = Muhendis(\"Ahmet\", 15000, \"Yazilim\")\n",
    "yonetici = Yonetici(\"Ali\", 20000, 5)\n",
    "muhendis.bilgi_ver()\n",
    "\n",
    "yonetici.bilgi_ver()\n",
    "        "
   ]
  },
  {
   "cell_type": "code",
   "execution_count": null,
   "id": "2aa4558a",
   "metadata": {},
   "outputs": [],
   "source": [
    "--------------------------------\n",
    "|          Product             |\n",
    "--------------------------------\n",
    "| + name: str                  |\n",
    "| + price: float               |\n",
    "| - __stock: int               |\n",
    "--------------------------------\n",
    "| + __init__(name, price, stock)|\n",
    "| + check_stock(quantity): bool|\n",
    "| + update_stock(quantity): bool|\n",
    "| + get_stock(): int           |\n",
    "--------------------------------\n",
    "\n",
    "\n",
    "--------------------------------\n",
    "|          Customer            |\n",
    "--------------------------------\n",
    "| + name: str                  |\n",
    "| + email: str                 |\n",
    "| - __orders: list[Order]      |\n",
    "--------------------------------\n",
    "| + __init__(name, email)      |\n",
    "| + add_order(order: Order)    |\n",
    "| + get_orders(): list[Order]  |\n",
    "--------------------------------\n",
    "\n",
    "\n",
    "--------------------------------\n",
    "|          Order               |\n",
    "--------------------------------\n",
    "| + customer: Customer         |\n",
    "| + product: Product           |\n",
    "| + quantity: int              |\n",
    "| + is_processed: bool         |\n",
    "| + total_price: float         |\n",
    "--------------------------------\n",
    "| + __init__(customer, product, quantity) |\n",
    "| - __calculate_total(): float|\n",
    "| + process_order(): bool      |\n",
    "--------------------------------\n",
    "\n",
    "\n",
    "--------------------------------\n",
    "|       display_order_history  |\n",
    "--------------------------------\n",
    "| + display_order_history(customer: Customer): None |\n",
    "--------------------------------\n"
   ]
  }
 ],
 "metadata": {
  "kernelspec": {
   "display_name": "Python 3 (ipykernel)",
   "language": "python",
   "name": "python3"
  },
  "language_info": {
   "codemirror_mode": {
    "name": "ipython",
    "version": 3
   },
   "file_extension": ".py",
   "mimetype": "text/x-python",
   "name": "python",
   "nbconvert_exporter": "python",
   "pygments_lexer": "ipython3",
   "version": "3.9.16"
  }
 },
 "nbformat": 4,
 "nbformat_minor": 5
}
